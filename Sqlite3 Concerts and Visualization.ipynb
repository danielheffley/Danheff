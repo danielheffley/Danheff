{
 "cells": [
  {
   "cell_type": "markdown",
   "metadata": {},
   "source": [
    "# Objective: Create a foreign concert database using Sqlite3 with web scraped concert data from Bandsintown."
   ]
  },
  {
   "cell_type": "markdown",
   "metadata": {},
   "source": [
    "**First, we will create the webscraping script. This webscrapes the concert dates for hundreds of preselected artists only within the territories indicated in the script.**"
   ]
  },
  {
   "cell_type": "code",
   "execution_count": 2,
   "metadata": {},
   "outputs": [],
   "source": [
    "\n",
    "from selenium import webdriver\n",
    "import pandas as pd\n",
    "import time\n",
    "import timeit #used to time code\n",
    "\n",
    "df = pd.read_csv(r'C:\\Users\\Daniel_Heffley\\Desktop\\MLA Output\\DF Template.csv')\n",
    "\n",
    "driver = webdriver.Chrome(executable_path=r'C:\\Users\\Daniel_Heffley\\Desktop\\chrome driver\\chromedriver.exe')\n",
    "\n",
    "\n",
    "dic_df = pd.read_csv(r'C:\\Users\\Daniel_Heffley\\Desktop\\MLA Output\\Performers_Bandsintown_URL_Dictionary.csv')\n",
    "\n",
    "artists = dict(zip(dic_df['artist1'], dic_df['Bandsintown']))#a dictionary of artists and their bandsintown URL's\n",
    "\n",
    "qualifying_territories = ['Denmark',\n",
    "                          'Finland', \n",
    "                          'Germany', \n",
    "                          'Netherlands',                          \n",
    "                          'Norway',\n",
    "                          'Sweden',                         \n",
    "                          'United Kingdom',\n",
    "                          'England',\n",
    "                          'Scotland',\n",
    "                          'Wales',\n",
    "                          'Northern Ireland',\n",
    "                          'Australia',\n",
    "                          'New Zealand'\n",
    "                          ]\n",
    "\n",
    "driver.get('chrome://settings/content/images')\n",
    "time.sleep(0.5)\n",
    "input('Unselect image loading, open a second tab, switch back to the first tab, and then hit ENTER in this terminal')#Manually done by user and then hit enter to proceed\n",
    "\n",
    "start_time = timeit.default_timer()#Initiate timer\n",
    "\n",
    "first_window = driver.window_handles[0]\n",
    "second_window = driver.window_handles[1]\n",
    "\n",
    "i = 0\n",
    "\n",
    "for artist, url in artists.items():\n",
    "\n",
    "    driver.get(url)\n",
    "    time.sleep(0.5)\n",
    "    try:\n",
    "        driver.find_element_by_css_selector('div.upcomingEvents-ba243086').click()\n",
    "    except:\n",
    "        pass\n",
    "    time.sleep(0.5)\n",
    "\n",
    "\n",
    "\n",
    "\n",
    "\n",
    "\n",
    "    concert_links = driver.find_elements_by_class_name('event-e0fca222')\n",
    "    \n",
    "    locations = driver.find_elements_by_css_selector('div.event-99f3a195')\n",
    "\n",
    "    if len(concert_links) == 0:\n",
    "        print(artist, 'has no concerts upcoming')#This is meant to skip performers with no concerts so code doesnt break\n",
    "        continue\n",
    "\n",
    "\n",
    "    \n",
    "    just_links = []\n",
    "    for concert in concert_links:\n",
    "        link = concert.get_attribute('href')\n",
    "        just_links.append(link)\n",
    "    \n",
    "    just_locations = []    \n",
    "    for location in locations:\n",
    "        just_locations.append(location.text)\n",
    "        \n",
    "        \n",
    "    link_to_location_dic = dict(zip(just_links, just_locations))   \n",
    "    \n",
    "    list_of_qualifying_countries_concert_locals = []\n",
    "    for link, place in link_to_location_dic.items():\n",
    "        \n",
    "        str_to_be_tested = place\n",
    "        \n",
    "        for territory in qualifying_territories:\n",
    "            if territory.upper() in str_to_be_tested.upper():\n",
    "                driver.switch_to.window(second_window)\n",
    "                driver.get(link)\n",
    "                time.sleep(0.5)\n",
    "    \n",
    "                df.loc[i,'Artist'] = artist\n",
    "        \n",
    "                try:\n",
    "                    date_and_venue = driver.find_element_by_css_selector('h2.artistAndEventInfo-967df305').text\n",
    "                except:\n",
    "                    date_and_venue = 'Concert link not valid; delete entry'\n",
    "                df.loc[i,'Date_Venue'] = date_and_venue\n",
    "        \n",
    "                try:\n",
    "                    location = driver.find_element_by_css_selector('a.artistAndEventInfo-2304e027').text\n",
    "                except:\n",
    "                    location = 'Concert link not valid; delete entry'\n",
    "                df.loc[i,'Location'] = location\n",
    "    \n",
    "                time.sleep(0.5)\n",
    "                \n",
    "                list_of_qualifying_countries_concert_locals.append(place)\n",
    "                \n",
    "                i = i + 1\n",
    "                                                \n",
    "            else:\n",
    "                pass\n",
    "\n",
    "    if len(list_of_qualifying_countries_concert_locals) == 0:\n",
    "        print(artist, 'has no concerts in qualifying territories')\n",
    "        \n",
    "    driver.switch_to.window(first_window)\n",
    "    \n",
    "    df.to_csv(r'C:\\Users\\Daniel_Heffley\\Desktop\\MLA Output\\raw output 1_16_2020.csv', index = False, encoding = 'latin-1')      \n",
    "    \n",
    "      \n",
    "    \n",
    "print('Done')\n",
    "elapsed_time = (timeit.default_timer()) - (start_time)\n",
    "minutes = elapsed_time / 60\n",
    "print('Script took', round(minutes,2) , 'minutes.'  ) "
   ]
  },
  {
   "cell_type": "markdown",
   "metadata": {},
   "source": [
    "**Our dataframe of raw concert outputs will now be made into a SQL table for further cleaning.**"
   ]
  },
  {
   "cell_type": "code",
   "execution_count": 2,
   "metadata": {},
   "outputs": [],
   "source": [
    "import sqlite3\n",
    "import pandas as pd"
   ]
  },
  {
   "cell_type": "code",
   "execution_count": 3,
   "metadata": {},
   "outputs": [],
   "source": [
    "df = pd.read_csv(r'C:\\Users\\Daniel_Heffley\\Desktop\\MLA Output\\raw output 1_16_2020.csv', encoding = 'latin-1')"
   ]
  },
  {
   "cell_type": "code",
   "execution_count": 4,
   "metadata": {},
   "outputs": [
    {
     "data": {
      "text/plain": [
       "(516, 3)"
      ]
     },
     "execution_count": 4,
     "metadata": {},
     "output_type": "execute_result"
    }
   ],
   "source": [
    "df.shape"
   ]
  },
  {
   "cell_type": "markdown",
   "metadata": {},
   "source": [
    "**Do some preliminary data integrity checks.**"
   ]
  },
  {
   "cell_type": "code",
   "execution_count": 5,
   "metadata": {},
   "outputs": [
    {
     "data": {
      "text/html": [
       "<div>\n",
       "<style scoped>\n",
       "    .dataframe tbody tr th:only-of-type {\n",
       "        vertical-align: middle;\n",
       "    }\n",
       "\n",
       "    .dataframe tbody tr th {\n",
       "        vertical-align: top;\n",
       "    }\n",
       "\n",
       "    .dataframe thead th {\n",
       "        text-align: right;\n",
       "    }\n",
       "</style>\n",
       "<table border=\"1\" class=\"dataframe\">\n",
       "  <thead>\n",
       "    <tr style=\"text-align: right;\">\n",
       "      <th></th>\n",
       "      <th>Artist</th>\n",
       "      <th>Date_Venue</th>\n",
       "      <th>Location</th>\n",
       "    </tr>\n",
       "  </thead>\n",
       "  <tbody>\n",
       "    <tr>\n",
       "      <th>0</th>\n",
       "      <td>Jason Mraz</td>\n",
       "      <td>Nov 12th 2020 @ Kings Park</td>\n",
       "      <td>West Perth, Australia</td>\n",
       "    </tr>\n",
       "    <tr>\n",
       "      <th>1</th>\n",
       "      <td>Jason Mraz</td>\n",
       "      <td>Nov 14th 2020 @ Peter Lehmann Wines</td>\n",
       "      <td>Tanunda, Australia</td>\n",
       "    </tr>\n",
       "    <tr>\n",
       "      <th>2</th>\n",
       "      <td>Jason Mraz</td>\n",
       "      <td>Nov 15th 2020 @ Rochford Wines Yarra Valley</td>\n",
       "      <td>Coldstream, Australia</td>\n",
       "    </tr>\n",
       "    <tr>\n",
       "      <th>3</th>\n",
       "      <td>Jason Mraz</td>\n",
       "      <td>Nov 21st 2020 @ Esca Bimbadgen</td>\n",
       "      <td>Pokolbin, Australia</td>\n",
       "    </tr>\n",
       "    <tr>\n",
       "      <th>4</th>\n",
       "      <td>Jason Mraz</td>\n",
       "      <td>Nov 22nd 2020 @ Sirromet Wines</td>\n",
       "      <td>Mount Cotton, Australia</td>\n",
       "    </tr>\n",
       "  </tbody>\n",
       "</table>\n",
       "</div>"
      ],
      "text/plain": [
       "       Artist                                   Date_Venue  \\\n",
       "0  Jason Mraz                   Nov 12th 2020 @ Kings Park   \n",
       "1  Jason Mraz          Nov 14th 2020 @ Peter Lehmann Wines   \n",
       "2  Jason Mraz  Nov 15th 2020 @ Rochford Wines Yarra Valley   \n",
       "3  Jason Mraz               Nov 21st 2020 @ Esca Bimbadgen   \n",
       "4  Jason Mraz               Nov 22nd 2020 @ Sirromet Wines   \n",
       "\n",
       "                  Location  \n",
       "0    West Perth, Australia  \n",
       "1       Tanunda, Australia  \n",
       "2    Coldstream, Australia  \n",
       "3      Pokolbin, Australia  \n",
       "4  Mount Cotton, Australia  "
      ]
     },
     "execution_count": 5,
     "metadata": {},
     "output_type": "execute_result"
    }
   ],
   "source": [
    "df.head()"
   ]
  },
  {
   "cell_type": "code",
   "execution_count": 6,
   "metadata": {},
   "outputs": [
    {
     "data": {
      "text/plain": [
       "Artist        object\n",
       "Date_Venue    object\n",
       "Location      object\n",
       "dtype: object"
      ]
     },
     "execution_count": 6,
     "metadata": {},
     "output_type": "execute_result"
    }
   ],
   "source": [
    "df.dtypes"
   ]
  },
  {
   "cell_type": "code",
   "execution_count": 7,
   "metadata": {},
   "outputs": [
    {
     "data": {
      "text/plain": [
       "Artist        0\n",
       "Date_Venue    0\n",
       "Location      0\n",
       "dtype: int64"
      ]
     },
     "execution_count": 7,
     "metadata": {},
     "output_type": "execute_result"
    }
   ],
   "source": [
    "df.isnull().sum()"
   ]
  },
  {
   "cell_type": "markdown",
   "metadata": {},
   "source": [
    "**Import dataframe to SQL.**"
   ]
  },
  {
   "cell_type": "code",
   "execution_count": 8,
   "metadata": {},
   "outputs": [],
   "source": [
    "conn = sqlite3.connect(r'C:\\Users\\Daniel_Heffley\\Desktop\\Python\\Concertdb.db')\n",
    "\n",
    "c = conn.cursor()\n",
    "\n",
    "df.to_sql('Concerts', conn, if_exists='replace', index=False)"
   ]
  },
  {
   "cell_type": "markdown",
   "metadata": {},
   "source": [
    "**We can see how the data looks when we display the SQL table.**"
   ]
  },
  {
   "cell_type": "code",
   "execution_count": 9,
   "metadata": {
    "scrolled": true
   },
   "outputs": [
    {
     "data": {
      "text/plain": [
       "[('Jason Mraz', 'Nov 12th 2020 @ Kings Park', 'West Perth, Australia'),\n",
       " ('Jason Mraz', 'Nov 14th 2020 @ Peter Lehmann Wines', 'Tanunda, Australia'),\n",
       " ('Jason Mraz',\n",
       "  'Nov 15th 2020 @ Rochford Wines Yarra Valley',\n",
       "  'Coldstream, Australia'),\n",
       " ('Jason Mraz', 'Nov 21st 2020 @ Esca Bimbadgen', 'Pokolbin, Australia'),\n",
       " ('Jason Mraz', 'Nov 22nd 2020 @ Sirromet Wines', 'Mount Cotton, Australia')]"
      ]
     },
     "execution_count": 9,
     "metadata": {},
     "output_type": "execute_result"
    }
   ],
   "source": [
    "c.execute('SELECT * from Concerts LIMIT 5')\n",
    "c.fetchall()"
   ]
  },
  {
   "cell_type": "markdown",
   "metadata": {},
   "source": [
    "**We can split the Date_Venue column into separate date and venue columns.**"
   ]
  },
  {
   "cell_type": "code",
   "execution_count": 10,
   "metadata": {},
   "outputs": [
    {
     "data": {
      "text/plain": [
       "<sqlite3.Cursor at 0x27a9d3667a0>"
      ]
     },
     "execution_count": 10,
     "metadata": {},
     "output_type": "execute_result"
    }
   ],
   "source": [
    "c.execute('ALTER TABLE Concerts ADD COLUMN Venue TEXT')\n",
    "c.execute('ALTER TABLE Concerts ADD COLUMN Date TEXT')"
   ]
  },
  {
   "cell_type": "markdown",
   "metadata": {},
   "source": [
    "**Define functions in Python that split at @.**"
   ]
  },
  {
   "cell_type": "code",
   "execution_count": 11,
   "metadata": {},
   "outputs": [],
   "source": [
    "def left_split_at_at(string):\n",
    "    return string.split('@')[0]"
   ]
  },
  {
   "cell_type": "code",
   "execution_count": 12,
   "metadata": {},
   "outputs": [],
   "source": [
    "def right_split_at_at(string):\n",
    "    return string.split('@')[1]"
   ]
  },
  {
   "cell_type": "code",
   "execution_count": 13,
   "metadata": {},
   "outputs": [],
   "source": [
    "conn.create_function(\"left_at_split\", 1, left_split_at_at)\n",
    "conn.create_function(\"right_at_split\", 1, right_split_at_at)"
   ]
  },
  {
   "cell_type": "markdown",
   "metadata": {},
   "source": [
    "**Now apply these functions in the SQL database.**"
   ]
  },
  {
   "cell_type": "code",
   "execution_count": 14,
   "metadata": {},
   "outputs": [
    {
     "data": {
      "text/plain": [
       "<sqlite3.Cursor at 0x27a9d3667a0>"
      ]
     },
     "execution_count": 14,
     "metadata": {},
     "output_type": "execute_result"
    }
   ],
   "source": [
    "c.execute(\"UPDATE Concerts SET Date = left_at_split(Date_Venue);\")"
   ]
  },
  {
   "cell_type": "code",
   "execution_count": 15,
   "metadata": {},
   "outputs": [
    {
     "data": {
      "text/plain": [
       "<sqlite3.Cursor at 0x27a9d3667a0>"
      ]
     },
     "execution_count": 15,
     "metadata": {},
     "output_type": "execute_result"
    }
   ],
   "source": [
    "c.execute(\"UPDATE Concerts SET Venue = right_at_split(Date_Venue);\")"
   ]
  },
  {
   "cell_type": "code",
   "execution_count": 16,
   "metadata": {},
   "outputs": [
    {
     "data": {
      "text/plain": [
       "[('Jason Mraz',\n",
       "  'Nov 12th 2020 @ Kings Park',\n",
       "  'West Perth, Australia',\n",
       "  ' Kings Park',\n",
       "  'Nov 12th 2020 '),\n",
       " ('Jason Mraz',\n",
       "  'Nov 14th 2020 @ Peter Lehmann Wines',\n",
       "  'Tanunda, Australia',\n",
       "  ' Peter Lehmann Wines',\n",
       "  'Nov 14th 2020 '),\n",
       " ('Jason Mraz',\n",
       "  'Nov 15th 2020 @ Rochford Wines Yarra Valley',\n",
       "  'Coldstream, Australia',\n",
       "  ' Rochford Wines Yarra Valley',\n",
       "  'Nov 15th 2020 '),\n",
       " ('Jason Mraz',\n",
       "  'Nov 21st 2020 @ Esca Bimbadgen',\n",
       "  'Pokolbin, Australia',\n",
       "  ' Esca Bimbadgen',\n",
       "  'Nov 21st 2020 '),\n",
       " ('Jason Mraz',\n",
       "  'Nov 22nd 2020 @ Sirromet Wines',\n",
       "  'Mount Cotton, Australia',\n",
       "  ' Sirromet Wines',\n",
       "  'Nov 22nd 2020 ')]"
      ]
     },
     "execution_count": 16,
     "metadata": {},
     "output_type": "execute_result"
    }
   ],
   "source": [
    "c.execute('SELECT * from Concerts LIMIT 5')\n",
    "c.fetchall()"
   ]
  },
  {
   "cell_type": "code",
   "execution_count": 17,
   "metadata": {},
   "outputs": [
    {
     "data": {
      "text/plain": [
       "<sqlite3.Cursor at 0x27a9d3667a0>"
      ]
     },
     "execution_count": 17,
     "metadata": {},
     "output_type": "execute_result"
    }
   ],
   "source": [
    "c.execute(\"UPDATE Concerts SET Venue = trim(Venue);\")#trim the extra spaces\n",
    "c.execute(\"UPDATE Concerts SET Date = trim(Date);\")"
   ]
  },
  {
   "cell_type": "code",
   "execution_count": 18,
   "metadata": {},
   "outputs": [
    {
     "data": {
      "text/plain": [
       "[('Jason Mraz',\n",
       "  'Nov 12th 2020 @ Kings Park',\n",
       "  'West Perth, Australia',\n",
       "  'Kings Park',\n",
       "  'Nov 12th 2020')]"
      ]
     },
     "execution_count": 18,
     "metadata": {},
     "output_type": "execute_result"
    }
   ],
   "source": [
    "c.execute('SELECT * from Concerts LIMIT 1')\n",
    "c.fetchall()"
   ]
  },
  {
   "cell_type": "markdown",
   "metadata": {},
   "source": [
    "**We can see that our date column is not in the format we would like it for easy sorting.\n",
    "We will have to separate and clean to get to only numeric values.**"
   ]
  },
  {
   "cell_type": "code",
   "execution_count": 19,
   "metadata": {},
   "outputs": [],
   "source": [
    "def white_space_split_month(string):#Define functions that will separate our date column\n",
    "    return string.split(' ')[0]\n",
    "def white_space_split_day(string):\n",
    "    return string.split(' ')[1]\n",
    "def white_space_split_year(string):\n",
    "    return string.split(' ')[2]"
   ]
  },
  {
   "cell_type": "code",
   "execution_count": 20,
   "metadata": {},
   "outputs": [],
   "source": [
    "conn.create_function(\"white_space_split_month\", 1, white_space_split_month)#Import these functions to Sqlite\n",
    "conn.create_function(\"white_space_split_day\", 1, white_space_split_day)\n",
    "conn.create_function(\"white_space_split_year\", 1, white_space_split_year)"
   ]
  },
  {
   "cell_type": "code",
   "execution_count": 21,
   "metadata": {},
   "outputs": [
    {
     "data": {
      "text/plain": [
       "<sqlite3.Cursor at 0x27a9d3667a0>"
      ]
     },
     "execution_count": 21,
     "metadata": {},
     "output_type": "execute_result"
    }
   ],
   "source": [
    "c.execute('ALTER TABLE Concerts ADD COLUMN Month TEXT')#Add new columns\n"
   ]
  },
  {
   "cell_type": "code",
   "execution_count": 22,
   "metadata": {},
   "outputs": [
    {
     "data": {
      "text/plain": [
       "<sqlite3.Cursor at 0x27a9d3667a0>"
      ]
     },
     "execution_count": 22,
     "metadata": {},
     "output_type": "execute_result"
    }
   ],
   "source": [
    "c.execute('ALTER TABLE Concerts ADD COLUMN Day TEXT')\n",
    "c.execute('ALTER TABLE Concerts ADD COLUMN Year INT')"
   ]
  },
  {
   "cell_type": "code",
   "execution_count": 23,
   "metadata": {},
   "outputs": [
    {
     "data": {
      "text/plain": [
       "[('Jason Mraz',\n",
       "  'Nov 12th 2020 @ Kings Park',\n",
       "  'West Perth, Australia',\n",
       "  'Kings Park',\n",
       "  'Nov 12th 2020',\n",
       "  None,\n",
       "  None,\n",
       "  None)]"
      ]
     },
     "execution_count": 23,
     "metadata": {},
     "output_type": "execute_result"
    }
   ],
   "source": [
    "c.execute('SELECT * from Concerts LIMIT 1')\n",
    "c.fetchall()"
   ]
  },
  {
   "cell_type": "code",
   "execution_count": 24,
   "metadata": {},
   "outputs": [
    {
     "data": {
      "text/plain": [
       "[(0, 'Artist', 'TEXT', 0, None, 0),\n",
       " (1, 'Date_Venue', 'TEXT', 0, None, 0),\n",
       " (2, 'Location', 'TEXT', 0, None, 0),\n",
       " (3, 'Venue', 'TEXT', 0, None, 0),\n",
       " (4, 'Date', 'TEXT', 0, None, 0),\n",
       " (5, 'Month', 'TEXT', 0, None, 0),\n",
       " (6, 'Day', 'TEXT', 0, None, 0),\n",
       " (7, 'Year', 'INT', 0, None, 0)]"
      ]
     },
     "execution_count": 24,
     "metadata": {},
     "output_type": "execute_result"
    }
   ],
   "source": [
    "c.execute('PRAGMA table_info(Concerts);')\n",
    "c.fetchall()#View column names"
   ]
  },
  {
   "cell_type": "code",
   "execution_count": 25,
   "metadata": {},
   "outputs": [
    {
     "data": {
      "text/plain": [
       "<sqlite3.Cursor at 0x27a9d3667a0>"
      ]
     },
     "execution_count": 25,
     "metadata": {},
     "output_type": "execute_result"
    }
   ],
   "source": [
    "c.execute(\"UPDATE Concerts SET Month = white_space_split_month(Date);\")#Update our columns using the functions we wrote"
   ]
  },
  {
   "cell_type": "code",
   "execution_count": 26,
   "metadata": {},
   "outputs": [
    {
     "data": {
      "text/plain": [
       "<sqlite3.Cursor at 0x27a9d3667a0>"
      ]
     },
     "execution_count": 26,
     "metadata": {},
     "output_type": "execute_result"
    }
   ],
   "source": [
    "c.execute(\"UPDATE Concerts SET Day = white_space_split_day(Date);\")"
   ]
  },
  {
   "cell_type": "code",
   "execution_count": 27,
   "metadata": {},
   "outputs": [
    {
     "data": {
      "text/plain": [
       "<sqlite3.Cursor at 0x27a9d3667a0>"
      ]
     },
     "execution_count": 27,
     "metadata": {},
     "output_type": "execute_result"
    }
   ],
   "source": [
    "c.execute(\"UPDATE Concerts SET Year = white_space_split_year(Date);\")"
   ]
  },
  {
   "cell_type": "code",
   "execution_count": 28,
   "metadata": {},
   "outputs": [
    {
     "data": {
      "text/plain": [
       "[('Jason Mraz',\n",
       "  'Nov 12th 2020 @ Kings Park',\n",
       "  'West Perth, Australia',\n",
       "  'Kings Park',\n",
       "  'Nov 12th 2020',\n",
       "  'Nov',\n",
       "  '12th',\n",
       "  2020)]"
      ]
     },
     "execution_count": 28,
     "metadata": {},
     "output_type": "execute_result"
    }
   ],
   "source": [
    "c.execute('SELECT * from Concerts LIMIT 1')\n",
    "c.fetchall()#Output to see what we have"
   ]
  },
  {
   "cell_type": "markdown",
   "metadata": {},
   "source": [
    "**Our year column is already in a pure number format, but months are three letter abbreviations and days have letters on the end. We will have to do some further date cleaning to get pure numbers.**"
   ]
  },
  {
   "cell_type": "code",
   "execution_count": 29,
   "metadata": {},
   "outputs": [],
   "source": [
    "#Let's start first by making a function that will get rid of non-numerical characters\n",
    "#Sqlite doesnt support Regex so we will have to do a regex function in Python and import\n",
    "import re\n",
    "def only_numbers(string):\n",
    "    return re.sub(\"\\D\", \"\", string)"
   ]
  },
  {
   "cell_type": "code",
   "execution_count": 30,
   "metadata": {},
   "outputs": [
    {
     "data": {
      "text/plain": [
       "'12'"
      ]
     },
     "execution_count": 30,
     "metadata": {},
     "output_type": "execute_result"
    }
   ],
   "source": [
    "only_numbers('12th')#Test that the Regex works"
   ]
  },
  {
   "cell_type": "code",
   "execution_count": 31,
   "metadata": {},
   "outputs": [],
   "source": [
    "conn.create_function(\"only_numbers\", 1, only_numbers)#Import the function to Sqlite"
   ]
  },
  {
   "cell_type": "code",
   "execution_count": 32,
   "metadata": {},
   "outputs": [
    {
     "data": {
      "text/plain": [
       "<sqlite3.Cursor at 0x27a9d3667a0>"
      ]
     },
     "execution_count": 32,
     "metadata": {},
     "output_type": "execute_result"
    }
   ],
   "source": [
    "c.execute('ALTER TABLE Concerts ADD COLUMN Day_Num INT') #create new column just for day numbers"
   ]
  },
  {
   "cell_type": "code",
   "execution_count": 33,
   "metadata": {},
   "outputs": [
    {
     "data": {
      "text/plain": [
       "<sqlite3.Cursor at 0x27a9d3667a0>"
      ]
     },
     "execution_count": 33,
     "metadata": {},
     "output_type": "execute_result"
    }
   ],
   "source": [
    "c.execute(\"UPDATE Concerts SET Day_Num = only_numbers(Day);\")"
   ]
  },
  {
   "cell_type": "code",
   "execution_count": 34,
   "metadata": {},
   "outputs": [
    {
     "data": {
      "text/plain": [
       "[('Jason Mraz',\n",
       "  'Nov 12th 2020 @ Kings Park',\n",
       "  'West Perth, Australia',\n",
       "  'Kings Park',\n",
       "  'Nov 12th 2020',\n",
       "  'Nov',\n",
       "  '12th',\n",
       "  2020,\n",
       "  12)]"
      ]
     },
     "execution_count": 34,
     "metadata": {},
     "output_type": "execute_result"
    }
   ],
   "source": [
    "c.execute('SELECT * from Concerts LIMIT 1')\n",
    "c.fetchall()#Verify that day numbers are are purely numbers now"
   ]
  },
  {
   "cell_type": "code",
   "execution_count": 35,
   "metadata": {},
   "outputs": [],
   "source": [
    "#Now we can move onto making the months numerical.\n"
   ]
  },
  {
   "cell_type": "code",
   "execution_count": 36,
   "metadata": {},
   "outputs": [
    {
     "data": {
      "text/plain": [
       "<sqlite3.Cursor at 0x27a9d3667a0>"
      ]
     },
     "execution_count": 36,
     "metadata": {},
     "output_type": "execute_result"
    }
   ],
   "source": [
    "#We can make a new table in our database with month abbreviations mapped to month numbers\n",
    "c.execute('CREATE TABLE Month_Abrevs (Month TEXT, Month_Num INT)')"
   ]
  },
  {
   "cell_type": "code",
   "execution_count": 37,
   "metadata": {},
   "outputs": [
    {
     "data": {
      "text/plain": [
       "<sqlite3.Cursor at 0x27a9d3667a0>"
      ]
     },
     "execution_count": 37,
     "metadata": {},
     "output_type": "execute_result"
    }
   ],
   "source": [
    "c.execute('INSERT INTO Month_Abrevs VALUES (\"Jan\",1),(\"Feb\",2),(\"Mar\",3),(\"Apr\",4),(\"May\",5),(\"Jun\",6),(\"Jul\",7),(\"Aug\",8),(\"Sep\",9),(\"Oct\",10),(\"Nov\",11),(\"Dec\",12);')"
   ]
  },
  {
   "cell_type": "code",
   "execution_count": 38,
   "metadata": {},
   "outputs": [
    {
     "data": {
      "text/plain": [
       "[('Jan', 1),\n",
       " ('Feb', 2),\n",
       " ('Mar', 3),\n",
       " ('Apr', 4),\n",
       " ('May', 5),\n",
       " ('Jun', 6),\n",
       " ('Jul', 7),\n",
       " ('Aug', 8),\n",
       " ('Sep', 9),\n",
       " ('Oct', 10),\n",
       " ('Nov', 11),\n",
       " ('Dec', 12)]"
      ]
     },
     "execution_count": 38,
     "metadata": {},
     "output_type": "execute_result"
    }
   ],
   "source": [
    "c.execute('SELECT * from Month_Abrevs')\n",
    "c.fetchall()#View our month abbreviations "
   ]
  },
  {
   "cell_type": "code",
   "execution_count": 39,
   "metadata": {},
   "outputs": [
    {
     "data": {
      "text/plain": [
       "[(0, 'Month', 'TEXT', 0, None, 0), (1, 'Month_Num', 'INT', 0, None, 0)]"
      ]
     },
     "execution_count": 39,
     "metadata": {},
     "output_type": "execute_result"
    }
   ],
   "source": [
    "c.execute('PRAGMA table_info(Month_Abrevs);')\n",
    "c.fetchall()#View the columns"
   ]
  },
  {
   "cell_type": "code",
   "execution_count": 40,
   "metadata": {},
   "outputs": [
    {
     "data": {
      "text/plain": [
       "<sqlite3.Cursor at 0x27a9d3667a0>"
      ]
     },
     "execution_count": 40,
     "metadata": {},
     "output_type": "execute_result"
    }
   ],
   "source": [
    "c.execute('ALTER TABLE Concerts ADD COLUMN Month_Num INT')#Add month number column to Concerts table"
   ]
  },
  {
   "cell_type": "code",
   "execution_count": 41,
   "metadata": {},
   "outputs": [
    {
     "data": {
      "text/plain": [
       "<sqlite3.Cursor at 0x27a9d3667a0>"
      ]
     },
     "execution_count": 41,
     "metadata": {},
     "output_type": "execute_result"
    }
   ],
   "source": [
    "#Now join the two tables to get the month numbers in our original Concerts table\n",
    "#As SQLite does not support JOIN in conjunction with UPDATE, we actually have to do it slightly differently\n",
    "#But one can imagine how a UPDATE JOIN statement could be used here as it would be in a SQL server\n",
    "c.execute('UPDATE Concerts SET Month_Num = (SELECT Month_Num FROM Month_Abrevs WHERE Month = Concerts.Month);')"
   ]
  },
  {
   "cell_type": "code",
   "execution_count": 42,
   "metadata": {},
   "outputs": [
    {
     "data": {
      "text/plain": [
       "[('Jason Mraz',\n",
       "  'Nov 12th 2020 @ Kings Park',\n",
       "  'West Perth, Australia',\n",
       "  'Kings Park',\n",
       "  'Nov 12th 2020',\n",
       "  'Nov',\n",
       "  '12th',\n",
       "  2020,\n",
       "  12,\n",
       "  11)]"
      ]
     },
     "execution_count": 42,
     "metadata": {},
     "output_type": "execute_result"
    }
   ],
   "source": [
    "c.execute('SELECT * from Concerts LIMIT 1')\n",
    "c.fetchall()"
   ]
  },
  {
   "cell_type": "code",
   "execution_count": 43,
   "metadata": {},
   "outputs": [],
   "source": [
    "#Now we have all numerical data for dates"
   ]
  },
  {
   "cell_type": "code",
   "execution_count": 44,
   "metadata": {},
   "outputs": [
    {
     "data": {
      "text/plain": [
       "[(0, 'Artist', 'TEXT', 0, None, 0),\n",
       " (1, 'Date_Venue', 'TEXT', 0, None, 0),\n",
       " (2, 'Location', 'TEXT', 0, None, 0),\n",
       " (3, 'Venue', 'TEXT', 0, None, 0),\n",
       " (4, 'Date', 'TEXT', 0, None, 0),\n",
       " (5, 'Month', 'TEXT', 0, None, 0),\n",
       " (6, 'Day', 'TEXT', 0, None, 0),\n",
       " (7, 'Year', 'INT', 0, None, 0),\n",
       " (8, 'Day_Num', 'INT', 0, None, 0),\n",
       " (9, 'Month_Num', 'INT', 0, None, 0)]"
      ]
     },
     "execution_count": 44,
     "metadata": {},
     "output_type": "execute_result"
    }
   ],
   "source": [
    "c.execute('PRAGMA table_info(Concerts);')\n",
    "c.fetchall()"
   ]
  },
  {
   "cell_type": "markdown",
   "metadata": {},
   "source": [
    "**We can now split location into City and Territory.**"
   ]
  },
  {
   "cell_type": "code",
   "execution_count": 45,
   "metadata": {},
   "outputs": [],
   "source": [
    "def left_split_at_comma(string): #Define functions that split at a comma\n",
    "    return string.split(',')[0]\n",
    "def right_split_at_comma(string):\n",
    "    return string.split(',')[1]"
   ]
  },
  {
   "cell_type": "code",
   "execution_count": 46,
   "metadata": {},
   "outputs": [],
   "source": [
    "conn.create_function(\"left_split_at_comma\", 1, left_split_at_comma)#Import to Sqlite\n",
    "conn.create_function(\"right_split_at_comma\", 1, right_split_at_comma)"
   ]
  },
  {
   "cell_type": "code",
   "execution_count": 47,
   "metadata": {},
   "outputs": [
    {
     "data": {
      "text/plain": [
       "<sqlite3.Cursor at 0x27a9d3667a0>"
      ]
     },
     "execution_count": 47,
     "metadata": {},
     "output_type": "execute_result"
    }
   ],
   "source": [
    "c.execute('ALTER TABLE Concerts ADD COLUMN City TEXT') #Add new city column"
   ]
  },
  {
   "cell_type": "code",
   "execution_count": 48,
   "metadata": {},
   "outputs": [
    {
     "data": {
      "text/plain": [
       "<sqlite3.Cursor at 0x27a9d3667a0>"
      ]
     },
     "execution_count": 48,
     "metadata": {},
     "output_type": "execute_result"
    }
   ],
   "source": [
    "c.execute('ALTER TABLE Concerts ADD COLUMN Territory TEXT')#Add Territory column"
   ]
  },
  {
   "cell_type": "code",
   "execution_count": 49,
   "metadata": {},
   "outputs": [
    {
     "data": {
      "text/plain": [
       "[(0, 'Artist', 'TEXT', 0, None, 0),\n",
       " (1, 'Date_Venue', 'TEXT', 0, None, 0),\n",
       " (2, 'Location', 'TEXT', 0, None, 0),\n",
       " (3, 'Venue', 'TEXT', 0, None, 0),\n",
       " (4, 'Date', 'TEXT', 0, None, 0),\n",
       " (5, 'Month', 'TEXT', 0, None, 0),\n",
       " (6, 'Day', 'TEXT', 0, None, 0),\n",
       " (7, 'Year', 'INT', 0, None, 0),\n",
       " (8, 'Day_Num', 'INT', 0, None, 0),\n",
       " (9, 'Month_Num', 'INT', 0, None, 0),\n",
       " (10, 'City', 'TEXT', 0, None, 0),\n",
       " (11, 'Territory', 'TEXT', 0, None, 0)]"
      ]
     },
     "execution_count": 49,
     "metadata": {},
     "output_type": "execute_result"
    }
   ],
   "source": [
    "c.execute('PRAGMA table_info(Concerts);')\n",
    "c.fetchall()#Verify new columns were added"
   ]
  },
  {
   "cell_type": "code",
   "execution_count": 50,
   "metadata": {},
   "outputs": [
    {
     "data": {
      "text/plain": [
       "<sqlite3.Cursor at 0x27a9d3667a0>"
      ]
     },
     "execution_count": 50,
     "metadata": {},
     "output_type": "execute_result"
    }
   ],
   "source": [
    "c.execute(\"UPDATE Concerts SET City = left_split_at_comma(Location);\")#Separate city and territory"
   ]
  },
  {
   "cell_type": "code",
   "execution_count": 51,
   "metadata": {},
   "outputs": [
    {
     "data": {
      "text/plain": [
       "<sqlite3.Cursor at 0x27a9d3667a0>"
      ]
     },
     "execution_count": 51,
     "metadata": {},
     "output_type": "execute_result"
    }
   ],
   "source": [
    "c.execute(\"UPDATE Concerts SET Territory = right_split_at_comma(Location);\")"
   ]
  },
  {
   "cell_type": "code",
   "execution_count": 52,
   "metadata": {},
   "outputs": [
    {
     "data": {
      "text/plain": [
       "<sqlite3.Cursor at 0x27a9d3667a0>"
      ]
     },
     "execution_count": 52,
     "metadata": {},
     "output_type": "execute_result"
    }
   ],
   "source": [
    "c.execute(\"UPDATE Concerts SET Territory = trim(Territory);\")#trim territory column"
   ]
  },
  {
   "cell_type": "code",
   "execution_count": 53,
   "metadata": {},
   "outputs": [
    {
     "data": {
      "text/plain": [
       "[('Jason Mraz',\n",
       "  'Nov 12th 2020 @ Kings Park',\n",
       "  'West Perth, Australia',\n",
       "  'Kings Park',\n",
       "  'Nov 12th 2020',\n",
       "  'Nov',\n",
       "  '12th',\n",
       "  2020,\n",
       "  12,\n",
       "  11,\n",
       "  'West Perth',\n",
       "  'Australia')]"
      ]
     },
     "execution_count": 53,
     "metadata": {},
     "output_type": "execute_result"
    }
   ],
   "source": [
    "c.execute('SELECT * from Concerts LIMIT 1')\n",
    "c.fetchall()#Verify table is correct"
   ]
  },
  {
   "cell_type": "markdown",
   "metadata": {},
   "source": [
    "**Now that we have all of the ingredients for a cleaned table, let's extract the columns we need.**"
   ]
  },
  {
   "cell_type": "code",
   "execution_count": 54,
   "metadata": {},
   "outputs": [
    {
     "data": {
      "text/plain": [
       "<sqlite3.Cursor at 0x27a9d3667a0>"
      ]
     },
     "execution_count": 54,
     "metadata": {},
     "output_type": "execute_result"
    }
   ],
   "source": [
    "c.execute('CREATE TABLE Cleaned_Concerts AS SELECT Artist, Venue, City, Territory, Day_Num, Month_Num, Year FROM Concerts;')"
   ]
  },
  {
   "cell_type": "code",
   "execution_count": 55,
   "metadata": {},
   "outputs": [
    {
     "data": {
      "text/plain": [
       "[('Jason Mraz', 'Kings Park', 'West Perth', 'Australia', 12, 11, 2020)]"
      ]
     },
     "execution_count": 55,
     "metadata": {},
     "output_type": "execute_result"
    }
   ],
   "source": [
    "c.execute('SELECT * from Cleaned_Concerts LIMIT 1')\n",
    "c.fetchall()#Verify Cleaned_Concerts table is right"
   ]
  },
  {
   "cell_type": "code",
   "execution_count": 56,
   "metadata": {},
   "outputs": [
    {
     "data": {
      "text/plain": [
       "[(0, 'Artist', 'TEXT', 0, None, 0),\n",
       " (1, 'Venue', 'TEXT', 0, None, 0),\n",
       " (2, 'City', 'TEXT', 0, None, 0),\n",
       " (3, 'Territory', 'TEXT', 0, None, 0),\n",
       " (4, 'Day_Num', 'INT', 0, None, 0),\n",
       " (5, 'Month_Num', 'INT', 0, None, 0),\n",
       " (6, 'Year', 'INT', 0, None, 0)]"
      ]
     },
     "execution_count": 56,
     "metadata": {},
     "output_type": "execute_result"
    }
   ],
   "source": [
    "c.execute('PRAGMA table_info(Cleaned_Concerts);')\n",
    "c.fetchall() #Verify column names are correct"
   ]
  },
  {
   "cell_type": "code",
   "execution_count": 57,
   "metadata": {},
   "outputs": [],
   "source": [
    "#Let's sort this new concert table from oldest concert to newest"
   ]
  },
  {
   "cell_type": "code",
   "execution_count": 58,
   "metadata": {},
   "outputs": [
    {
     "data": {
      "text/plain": [
       "<sqlite3.Cursor at 0x27a9d3667a0>"
      ]
     },
     "execution_count": 58,
     "metadata": {},
     "output_type": "execute_result"
    }
   ],
   "source": [
    "c.execute('ALTER TABLE Cleaned_Concerts ADD COLUMN Date TEXT ')#Make a concatenated Date column for easy viewing"
   ]
  },
  {
   "cell_type": "code",
   "execution_count": 59,
   "metadata": {},
   "outputs": [
    {
     "data": {
      "text/plain": [
       "<sqlite3.Cursor at 0x27a9d3667a0>"
      ]
     },
     "execution_count": 59,
     "metadata": {},
     "output_type": "execute_result"
    }
   ],
   "source": [
    "#Make a concatenated column for easy viewing\n",
    "c.execute(\"UPDATE Cleaned_Concerts SET Date = Day_num || '-' || Month_Num || '-' || Year;\")"
   ]
  },
  {
   "cell_type": "code",
   "execution_count": 60,
   "metadata": {},
   "outputs": [
    {
     "data": {
      "text/plain": [
       "[('Jason Mraz',\n",
       "  'Kings Park',\n",
       "  'West Perth',\n",
       "  'Australia',\n",
       "  12,\n",
       "  11,\n",
       "  2020,\n",
       "  '12-11-2020')]"
      ]
     },
     "execution_count": 60,
     "metadata": {},
     "output_type": "execute_result"
    }
   ],
   "source": [
    "c.execute('SELECT * from Cleaned_Concerts LIMIT 1')\n",
    "c.fetchall()#Verify concatenation worked"
   ]
  },
  {
   "cell_type": "code",
   "execution_count": 61,
   "metadata": {},
   "outputs": [],
   "source": [
    "c.execute('SELECT * FROM Cleaned_Concerts ORDER BY Year ASC, Month_Num ASC, Day_Num ASC;')\n",
    "rows = c.fetchall() #I won't output the whole table here, but just save the results to a variable"
   ]
  },
  {
   "cell_type": "code",
   "execution_count": 62,
   "metadata": {},
   "outputs": [
    {
     "data": {
      "text/plain": [
       "[('Hans Zimmer',\n",
       "  'Ericsson Globe',\n",
       "  'Stockholm',\n",
       "  'Sweden',\n",
       "  1,\n",
       "  4,\n",
       "  2021,\n",
       "  '1-4-2021'),\n",
       " ('Hans Zimmer',\n",
       "  'Telenor Arena Shuttlebuss',\n",
       "  'Oslo',\n",
       "  'Norway',\n",
       "  31,\n",
       "  3,\n",
       "  2021,\n",
       "  '31-3-2021')]"
      ]
     },
     "execution_count": 62,
     "metadata": {},
     "output_type": "execute_result"
    }
   ],
   "source": [
    "c.execute('SELECT * FROM Cleaned_Concerts ORDER BY Year DESC, Month_Num DESC, Day_Num DESC LIMIT 2;')\n",
    "c.fetchall() #We can see what the last two rows of the sorted table look like"
   ]
  },
  {
   "cell_type": "markdown",
   "metadata": {},
   "source": [
    "**Now that the table is all in order, we can now output the table as a csv.**"
   ]
  },
  {
   "cell_type": "code",
   "execution_count": 63,
   "metadata": {},
   "outputs": [],
   "source": [
    "import csv"
   ]
  },
  {
   "cell_type": "code",
   "execution_count": 64,
   "metadata": {},
   "outputs": [],
   "source": [
    "with open(\"output.csv\", \"w\", newline = '') as mycsvfile:\n",
    "    \n",
    "    csvWriter = csv.writer(mycsvfile, lineterminator = '\\n')\n",
    "    \n",
    "    csvWriter.writerows(rows) #This writes all of the rows from our sorted table query to output.csv\n",
    "\n",
    "    "
   ]
  },
  {
   "cell_type": "markdown",
   "metadata": {},
   "source": [
    "**Now it's time for some data visualization of the concerts.**"
   ]
  },
  {
   "cell_type": "code",
   "execution_count": 65,
   "metadata": {},
   "outputs": [],
   "source": [
    "#We will load in our sorted table as a pandas dataframe\n",
    "concerts_df = pd.read_csv(r'C:\\Users\\Daniel_Heffley\\Desktop\\Chris Poulos Prez\\Concerts_df.csv', encoding = 'latin-1')"
   ]
  },
  {
   "cell_type": "code",
   "execution_count": 66,
   "metadata": {},
   "outputs": [
    {
     "data": {
      "text/html": [
       "<div>\n",
       "<style scoped>\n",
       "    .dataframe tbody tr th:only-of-type {\n",
       "        vertical-align: middle;\n",
       "    }\n",
       "\n",
       "    .dataframe tbody tr th {\n",
       "        vertical-align: top;\n",
       "    }\n",
       "\n",
       "    .dataframe thead th {\n",
       "        text-align: right;\n",
       "    }\n",
       "</style>\n",
       "<table border=\"1\" class=\"dataframe\">\n",
       "  <thead>\n",
       "    <tr style=\"text-align: right;\">\n",
       "      <th></th>\n",
       "      <th>Artist</th>\n",
       "      <th>Venue</th>\n",
       "      <th>City</th>\n",
       "      <th>Territory</th>\n",
       "      <th>Day_Num</th>\n",
       "      <th>Month_Num</th>\n",
       "      <th>Year</th>\n",
       "    </tr>\n",
       "  </thead>\n",
       "  <tbody>\n",
       "    <tr>\n",
       "      <th>0</th>\n",
       "      <td>Slipknot</td>\n",
       "      <td>Manchester Arena</td>\n",
       "      <td>Manchester</td>\n",
       "      <td>United Kingdom</td>\n",
       "      <td>16</td>\n",
       "      <td>1</td>\n",
       "      <td>2020</td>\n",
       "    </tr>\n",
       "    <tr>\n",
       "      <th>1</th>\n",
       "      <td>Slipknot</td>\n",
       "      <td>Utilita Arena</td>\n",
       "      <td>Newcastle upon Tyne</td>\n",
       "      <td>United Kingdom</td>\n",
       "      <td>17</td>\n",
       "      <td>1</td>\n",
       "      <td>2020</td>\n",
       "    </tr>\n",
       "    <tr>\n",
       "      <th>2</th>\n",
       "      <td>Dream Theater</td>\n",
       "      <td>Helsinki Ice Hall</td>\n",
       "      <td>Helsinki</td>\n",
       "      <td>Finland</td>\n",
       "      <td>17</td>\n",
       "      <td>1</td>\n",
       "      <td>2020</td>\n",
       "    </tr>\n",
       "    <tr>\n",
       "      <th>3</th>\n",
       "      <td>Slipknot</td>\n",
       "      <td>SSE Hydro</td>\n",
       "      <td>Glasgow</td>\n",
       "      <td>United Kingdom</td>\n",
       "      <td>18</td>\n",
       "      <td>1</td>\n",
       "      <td>2020</td>\n",
       "    </tr>\n",
       "    <tr>\n",
       "      <th>4</th>\n",
       "      <td>Dream Theater</td>\n",
       "      <td>Club Teatria</td>\n",
       "      <td>Oulu</td>\n",
       "      <td>Finland</td>\n",
       "      <td>18</td>\n",
       "      <td>1</td>\n",
       "      <td>2020</td>\n",
       "    </tr>\n",
       "  </tbody>\n",
       "</table>\n",
       "</div>"
      ],
      "text/plain": [
       "          Artist              Venue                 City       Territory  \\\n",
       "0       Slipknot   Manchester Arena           Manchester  United Kingdom   \n",
       "1       Slipknot      Utilita Arena  Newcastle upon Tyne  United Kingdom   \n",
       "2  Dream Theater  Helsinki Ice Hall             Helsinki         Finland   \n",
       "3       Slipknot          SSE Hydro              Glasgow  United Kingdom   \n",
       "4  Dream Theater       Club Teatria                 Oulu         Finland   \n",
       "\n",
       "   Day_Num  Month_Num  Year  \n",
       "0       16          1  2020  \n",
       "1       17          1  2020  \n",
       "2       17          1  2020  \n",
       "3       18          1  2020  \n",
       "4       18          1  2020  "
      ]
     },
     "execution_count": 66,
     "metadata": {},
     "output_type": "execute_result"
    }
   ],
   "source": [
    "#A few checks to make sure all went well during SQL processing\n",
    "concerts_df.head()"
   ]
  },
  {
   "cell_type": "code",
   "execution_count": 67,
   "metadata": {},
   "outputs": [
    {
     "data": {
      "text/plain": [
       "(516, 7)"
      ]
     },
     "execution_count": 67,
     "metadata": {},
     "output_type": "execute_result"
    }
   ],
   "source": [
    "concerts_df.shape"
   ]
  },
  {
   "cell_type": "code",
   "execution_count": 68,
   "metadata": {},
   "outputs": [
    {
     "data": {
      "text/plain": [
       "Artist       0\n",
       "Venue        0\n",
       "City         0\n",
       "Territory    0\n",
       "Day_Num      0\n",
       "Month_Num    0\n",
       "Year         0\n",
       "dtype: int64"
      ]
     },
     "execution_count": 68,
     "metadata": {},
     "output_type": "execute_result"
    }
   ],
   "source": [
    "concerts_df.isnull().sum()"
   ]
  },
  {
   "cell_type": "code",
   "execution_count": 69,
   "metadata": {},
   "outputs": [
    {
     "data": {
      "text/plain": [
       "Artist       object\n",
       "Venue        object\n",
       "City         object\n",
       "Territory    object\n",
       "Day_Num       int64\n",
       "Month_Num     int64\n",
       "Year          int64\n",
       "dtype: object"
      ]
     },
     "execution_count": 69,
     "metadata": {},
     "output_type": "execute_result"
    }
   ],
   "source": [
    "concerts_df.dtypes"
   ]
  },
  {
   "cell_type": "code",
   "execution_count": 70,
   "metadata": {},
   "outputs": [],
   "source": [
    "%matplotlib inline \n",
    "\n",
    "import matplotlib.pyplot as plt"
   ]
  },
  {
   "cell_type": "code",
   "execution_count": 71,
   "metadata": {},
   "outputs": [
    {
     "data": {
      "image/png": "[encoded data removed]",
      "text/plain": [
       "<Figure size 648x360 with 1 Axes>"
      ]
     },
     "metadata": {
      "needs_background": "light"
     },
     "output_type": "display_data"
    }
   ],
   "source": [
    "#Let's look at the number of concerts per country in ascending order\n",
    "concerts_df['Territory'].groupby(concerts_df.Territory).count().sort_values().plot(kind='bar', figsize = (9,5));"
   ]
  },
  {
   "cell_type": "code",
   "execution_count": 72,
   "metadata": {},
   "outputs": [],
   "source": [
    "#Let's see how many concerts per month\n",
    "#First, we have to make a new column that is year concatenated with month\n",
    "concerts_df['Year_Month'] = concerts_df['Year'].astype(str) + concerts_df['Month_Num'].astype(str)"
   ]
  },
  {
   "cell_type": "code",
   "execution_count": 73,
   "metadata": {},
   "outputs": [],
   "source": [
    "concerts_df['Year_Month'] = concerts_df['Year_Month'].astype(int)"
   ]
  },
  {
   "cell_type": "code",
   "execution_count": 74,
   "metadata": {},
   "outputs": [
    {
     "data": {
      "text/html": [
       "<div>\n",
       "<style scoped>\n",
       "    .dataframe tbody tr th:only-of-type {\n",
       "        vertical-align: middle;\n",
       "    }\n",
       "\n",
       "    .dataframe tbody tr th {\n",
       "        vertical-align: top;\n",
       "    }\n",
       "\n",
       "    .dataframe thead th {\n",
       "        text-align: right;\n",
       "    }\n",
       "</style>\n",
       "<table border=\"1\" class=\"dataframe\">\n",
       "  <thead>\n",
       "    <tr style=\"text-align: right;\">\n",
       "      <th></th>\n",
       "      <th>Artist</th>\n",
       "      <th>Venue</th>\n",
       "      <th>City</th>\n",
       "      <th>Territory</th>\n",
       "      <th>Day_Num</th>\n",
       "      <th>Month_Num</th>\n",
       "      <th>Year</th>\n",
       "      <th>Year_Month</th>\n",
       "    </tr>\n",
       "  </thead>\n",
       "  <tbody>\n",
       "    <tr>\n",
       "      <th>0</th>\n",
       "      <td>Slipknot</td>\n",
       "      <td>Manchester Arena</td>\n",
       "      <td>Manchester</td>\n",
       "      <td>United Kingdom</td>\n",
       "      <td>16</td>\n",
       "      <td>1</td>\n",
       "      <td>2020</td>\n",
       "      <td>20201</td>\n",
       "    </tr>\n",
       "    <tr>\n",
       "      <th>1</th>\n",
       "      <td>Slipknot</td>\n",
       "      <td>Utilita Arena</td>\n",
       "      <td>Newcastle upon Tyne</td>\n",
       "      <td>United Kingdom</td>\n",
       "      <td>17</td>\n",
       "      <td>1</td>\n",
       "      <td>2020</td>\n",
       "      <td>20201</td>\n",
       "    </tr>\n",
       "    <tr>\n",
       "      <th>2</th>\n",
       "      <td>Dream Theater</td>\n",
       "      <td>Helsinki Ice Hall</td>\n",
       "      <td>Helsinki</td>\n",
       "      <td>Finland</td>\n",
       "      <td>17</td>\n",
       "      <td>1</td>\n",
       "      <td>2020</td>\n",
       "      <td>20201</td>\n",
       "    </tr>\n",
       "    <tr>\n",
       "      <th>3</th>\n",
       "      <td>Slipknot</td>\n",
       "      <td>SSE Hydro</td>\n",
       "      <td>Glasgow</td>\n",
       "      <td>United Kingdom</td>\n",
       "      <td>18</td>\n",
       "      <td>1</td>\n",
       "      <td>2020</td>\n",
       "      <td>20201</td>\n",
       "    </tr>\n",
       "    <tr>\n",
       "      <th>4</th>\n",
       "      <td>Dream Theater</td>\n",
       "      <td>Club Teatria</td>\n",
       "      <td>Oulu</td>\n",
       "      <td>Finland</td>\n",
       "      <td>18</td>\n",
       "      <td>1</td>\n",
       "      <td>2020</td>\n",
       "      <td>20201</td>\n",
       "    </tr>\n",
       "  </tbody>\n",
       "</table>\n",
       "</div>"
      ],
      "text/plain": [
       "          Artist              Venue                 City       Territory  \\\n",
       "0       Slipknot   Manchester Arena           Manchester  United Kingdom   \n",
       "1       Slipknot      Utilita Arena  Newcastle upon Tyne  United Kingdom   \n",
       "2  Dream Theater  Helsinki Ice Hall             Helsinki         Finland   \n",
       "3       Slipknot          SSE Hydro              Glasgow  United Kingdom   \n",
       "4  Dream Theater       Club Teatria                 Oulu         Finland   \n",
       "\n",
       "   Day_Num  Month_Num  Year  Year_Month  \n",
       "0       16          1  2020       20201  \n",
       "1       17          1  2020       20201  \n",
       "2       17          1  2020       20201  \n",
       "3       18          1  2020       20201  \n",
       "4       18          1  2020       20201  "
      ]
     },
     "execution_count": 74,
     "metadata": {},
     "output_type": "execute_result"
    }
   ],
   "source": [
    "concerts_df.head()"
   ]
  },
  {
   "cell_type": "code",
   "execution_count": 75,
   "metadata": {},
   "outputs": [
    {
     "data": {
      "image/png": "[encoded data removed]",
      "text/plain": [
       "<Figure size 648x360 with 1 Axes>"
      ]
     },
     "metadata": {
      "needs_background": "light"
     },
     "output_type": "display_data"
    }
   ],
   "source": [
    "#Unsurprisingly, summer and spring are big concert times, not many concerts have been posted for 2021 yet\n",
    "concerts_df['Year_Month'].groupby(concerts_df.Year_Month).count().sort_values().plot(kind='bar', figsize = (9,5));"
   ]
  },
  {
   "cell_type": "code",
   "execution_count": 76,
   "metadata": {},
   "outputs": [
    {
     "data": {
      "image/png": "[encoded data removed]",
      "text/plain": [
       "<Figure size 1008x360 with 1 Axes>"
      ]
     },
     "metadata": {
      "needs_background": "light"
     },
     "output_type": "display_data"
    }
   ],
   "source": [
    "#Let's see who's on tour the most\n",
    "concerts_df['Artist'].groupby(concerts_df.Artist).count().sort_values().plot(kind='bar', figsize = (14,5));"
   ]
  },
  {
   "cell_type": "code",
   "execution_count": 77,
   "metadata": {},
   "outputs": [
    {
     "data": {
      "image/png": "[encoded data removed]",
      "text/plain": [
       "<Figure size 648x360 with 1 Axes>"
      ]
     },
     "metadata": {
      "needs_background": "light"
     },
     "output_type": "display_data"
    }
   ],
   "source": [
    "#Let's see where the busiest bands are playing\n",
    "popular_bands = ['The Hooters', 'Slipknot','Bon Iver']\n",
    "concerts_df['Artist'][concerts_df['Artist'].isin(popular_bands)].groupby(concerts_df.Territory).count().sort_values().plot(kind='bar', figsize = (9,5));"
   ]
  },
  {
   "cell_type": "markdown",
   "metadata": {},
   "source": [
    "**Conclusion, you're in luck if you had an itch to see Slipknot or The Hooters in the UK and Germany between March and June!**"
   ]
  }
 ],
 "metadata": {
  "kernelspec": {
   "display_name": "Python 3",
   "language": "python",
   "name": "python3"
  },
  "language_info": {
   "codemirror_mode": {
    "name": "ipython",
    "version": 3
   },
   "file_extension": ".py",
   "mimetype": "text/x-python",
   "name": "python",
   "nbconvert_exporter": "python",
   "pygments_lexer": "ipython3",
   "version": "3.7.1"
  }
 },
 "nbformat": 4,
 "nbformat_minor": 2
}
