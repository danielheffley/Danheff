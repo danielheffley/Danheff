{
 "cells": [
  {
   "cell_type": "markdown",
   "metadata": {},
   "source": [
    "# Objective: Predict the national origin of a surname with an NLP model\n",
    "\n",
    "***This problem is a very hard one to unpack, so I will start with only three national origins and start my model building there; Spanish, German, and French. Thus, my model's predictions will live in a universe where a name can only be Spanish, German or French. This rolls back some of the complexity for now and will allow me to classify three nationalities well.***"
   ]
  },
  {
   "cell_type": "code",
   "execution_count": 526,
   "metadata": {},
   "outputs": [
    {
     "data": {
      "image/png": "[encoded data removed]",
      "text/plain": [
       "<IPython.core.display.Image object>"
      ]
     },
     "execution_count": 526,
     "metadata": {
      "image/png": {
       "width": 250
      }
     },
     "output_type": "execute_result"
    }
   ],
   "source": [
    "import IPython\n",
    "\n",
    "url = 'https://user-images.githubusercontent.com/58672183/74598570-9ddfaf00-5041-11ea-87a4-636d9a8a2b3c.png'\n",
    "IPython.display.Image(url, width = 250)"
   ]
  },
  {
   "cell_type": "code",
   "execution_count": 527,
   "metadata": {},
   "outputs": [
    {
     "data": {
      "image/jpeg": "[encoded data removed]",
      "text/plain": [
       "<IPython.core.display.Image object>"
      ]
     },
     "execution_count": 527,
     "metadata": {
      "image/jpeg": {
       "width": 250
      }
     },
     "output_type": "execute_result"
    }
   ],
   "source": [
    "url = 'https://user-images.githubusercontent.com/58672183/74598567-98826480-5041-11ea-97e8-077e6d657539.jpg'\n",
    "IPython.display.Image(url, width = 250)"
   ]
  },
  {
   "cell_type": "code",
   "execution_count": 528,
   "metadata": {},
   "outputs": [
    {
     "data": {
      "image/png": "[encoded data removed]",
      "text/plain": [
       "<IPython.core.display.Image object>"
      ]
     },
     "execution_count": 528,
     "metadata": {
      "image/png": {
       "width": 250
      }
     },
     "output_type": "execute_result"
    }
   ],
   "source": [
    "url = 'https://user-images.githubusercontent.com/58672183/74598564-8f919300-5041-11ea-8901-ad9ce95f833c.png'\n",
    "IPython.display.Image(url, width = 250)"
   ]
  },
  {
   "cell_type": "code",
   "execution_count": 393,
   "metadata": {},
   "outputs": [],
   "source": [
    "\n",
    "from __future__ import unicode_literals # unicode handling\n",
    "import pandas as pd\n",
    "import numpy as np\n",
    "import scipy as sp\n",
    "import json\n",
    "import spacy # pre-processing and traditional NLP stemming\n",
    "import codecs # unicode handling\n",
    "from scipy.sparse import hstack # stack arrays in sequence horizontally\n",
    "from gensim.models.word2vec import Word2Vec # Gensim is used for LDA and word2vec\n",
    "from sklearn.model_selection import cross_val_score\n",
    "from sklearn.model_selection import train_test_split\n",
    "from sklearn.feature_extraction.text import CountVectorizer, TfidfVectorizer, HashingVectorizer # information retrieval\n",
    "from sklearn.linear_model import LogisticRegression\n",
    "from sklearn.ensemble import RandomForestClassifier\n",
    "from sklearn.decomposition import PCA # principal component analysis\n",
    "from sklearn import metrics"
   ]
  },
  {
   "cell_type": "markdown",
   "metadata": {},
   "source": [
    "***Background: What's in a Name?***\n",
    "\n",
    "I think it's appropriate to start at a website that talks about family history and where names came from!\n",
    "\n",
    "https://www.familyeducation.com/\n",
    "\n",
    "You can browse this website for various info about family history, but the section I'm concerned with is the browse origin surname section.\n",
    "\n",
    "https://www.familyeducation.com/baby-names/browse-origin/surname\n",
    "\n",
    "You can see the list of countries where there are surnames available. For each country, there is also a short description of how names were derived. For example, the German description says:\n",
    "\n",
    "_It wasn't until 1871 that Germany became a unified country. Until then, it was made up of smaller nation-states whose borders frequently changed. Even after 1871, Germany's land area and political influence shifted several times. Because of this, German last names can be found throughout bordering countries, including Poland, Austria, France and Spain._\n",
    "\n",
    "_Another tricky thing about German last names: A last name could be what you would call a farm name. If a German moved onto someone else's farm, it was not uncommon to change his last name to that of the farm. If his wife inherited a farm, he might change his name to her maiden name._\n",
    "\n",
    "Surnames are often derived from a place of origin, an activity or a profession that defined a family. Place names in turn could originate from landmarks or features that defined a town or city. Thus, many surnames have roots in actual words from the spoken language of the region. (Or perhaps, the medieval version of the language.) This is an important fact that will come up later in the analysis.\n",
    "\n",
    "For now, I just want to give some examples of some specific surnames and their origins.\n",
    "\n",
    "    Beaumont (French) - From French place names derived from beau \"beautiful\" and mont \"mountain\".\n",
    "\n",
    "    Boucher (French) - Means \"butcher\" in French.\n",
    "\n",
    "    Ojeda (Spanish) - From the name of the Ojeda river in Soria, Spain, possibly derived from Latin folia \"leaves\".\n",
    "\n",
    "    Herzog (German) - From a German title meaning \"duke\", a nickname for a person who either acted like a duke or worked in a duke's household.\n",
    "    \n",
    "Not all surnames have origins that are this clear. For example, many surnames may just be derived from given names. These given names may or may not have roots in the region. For example, the surname \"Alberto\" may be nominally Spanish, but it's derived from the given name \"Albert\" which stems from the old Germanic name \"Adalbert\", meaning noble and bright.\n",
    "\n",
    "Certainly, there are many layers of complexity to unpack here! Hopefully, our NLP model will be able to take everything into account to predict the nationality of previously unseen surnames accurately. We will be training it on a dataset collected from Familyeducation and see what kind of accuracy it achieves.\n",
    "\n",
    "\n"
   ]
  },
  {
   "cell_type": "markdown",
   "metadata": {},
   "source": [
    "***Collecting the Dataset***"
   ]
  },
  {
   "cell_type": "markdown",
   "metadata": {},
   "source": [
    "Familyeducation has the German, French, and Spanish surnames sorted on their site, but not in a csv format for easy downloading. Collection just requires using a web scraping script. The following was the script used to web scrape all of the French surnames from the website."
   ]
  },
  {
   "cell_type": "code",
   "execution_count": null,
   "metadata": {},
   "outputs": [],
   "source": [
    "from selenium import webdriver\n",
    "import pandas as pd\n",
    "import time\n",
    "\n",
    "\n",
    "df = pd.read_csv(r'C:\\Users\\Daniel_Heffley\\Desktop\\Predict Good Matches\\Surnames DF.csv')#Dataframe used to store scraped names\n",
    "\n",
    "driver = webdriver.Chrome(executable_path=r'C:\\Users\\Daniel_Heffley\\Desktop\\chrome driver\\chromedriver.exe')#Executable for Selenium\n",
    "\n",
    "driver.get('chrome://settings/content/images')#Turn off images in settings for faster page loading\n",
    "time.sleep(0.5)\n",
    "input('Unselect image loading and then hit ENTER in this terminal')#Manually done by user and then hit enter to proceed\n",
    "\n",
    "\n",
    "\n",
    "all_names = []#Instatiate list of surnames\n",
    "\n",
    "for i in range(0,37):#The surnames are spread across 37 webpages\n",
    "\n",
    "    url = r'https://www.familyeducation.com/baby-names/browse-origin/surname/french?page=' + str(i)#Create URL\n",
    "\n",
    "    driver.get(url)#Load page\n",
    "\n",
    "    names_on_page_objects = driver.find_elements_by_css_selector('li')#The names are stored in the 'li' class on the webpages\n",
    "\n",
    "\n",
    "    for i in names_on_page_objects:\n",
    "        all_names.append(i.text)#Get the text property from the 'li' class objects and store in the list\n",
    "    \n",
    "    \n",
    "\n",
    "u = 0\n",
    "for name in all_names:\n",
    "    df.loc[u,'Name'] = name #place the names from the list in the dataframe\n",
    "    u = u + 1\n",
    "\n",
    "df.to_csv(r'C:\\Users\\Daniel_Heffley\\Desktop\\Predict Good Matches\\surnames FR.csv')"
   ]
  },
  {
   "cell_type": "markdown",
   "metadata": {},
   "source": [
    "After webscraping the French, German, and Spanish surnames, a csv with all of them collected together is produced."
   ]
  },
  {
   "cell_type": "markdown",
   "metadata": {},
   "source": [
    "***EDA***"
   ]
  },
  {
   "cell_type": "code",
   "execution_count": 401,
   "metadata": {},
   "outputs": [],
   "source": [
    "surnames = pd.read_csv(r'C:\\Users\\Daniel_Heffley\\Desktop\\Predict Good Matches\\Surnames DF.csv')"
   ]
  },
  {
   "cell_type": "markdown",
   "metadata": {},
   "source": [
    "After loading in the surnames, we can see what the dataframe looks like. \n",
    "\n",
    "The classes are: \n",
    "\n",
    "    Class 0: German \n",
    "    Class 1: French\n",
    "    Class 2: Spanish"
   ]
  },
  {
   "cell_type": "code",
   "execution_count": 402,
   "metadata": {},
   "outputs": [
    {
     "data": {
      "text/html": [
       "<div>\n",
       "<style scoped>\n",
       "    .dataframe tbody tr th:only-of-type {\n",
       "        vertical-align: middle;\n",
       "    }\n",
       "\n",
       "    .dataframe tbody tr th {\n",
       "        vertical-align: top;\n",
       "    }\n",
       "\n",
       "    .dataframe thead th {\n",
       "        text-align: right;\n",
       "    }\n",
       "</style>\n",
       "<table border=\"1\" class=\"dataframe\">\n",
       "  <thead>\n",
       "    <tr style=\"text-align: right;\">\n",
       "      <th></th>\n",
       "      <th>Name</th>\n",
       "      <th>Class</th>\n",
       "    </tr>\n",
       "  </thead>\n",
       "  <tbody>\n",
       "    <tr>\n",
       "      <th>0</th>\n",
       "      <td>Abbas</td>\n",
       "      <td>0</td>\n",
       "    </tr>\n",
       "    <tr>\n",
       "      <th>1</th>\n",
       "      <td>Abbe</td>\n",
       "      <td>0</td>\n",
       "    </tr>\n",
       "    <tr>\n",
       "      <th>2</th>\n",
       "      <td>Abegglen</td>\n",
       "      <td>0</td>\n",
       "    </tr>\n",
       "    <tr>\n",
       "      <th>3</th>\n",
       "      <td>Abel</td>\n",
       "      <td>0</td>\n",
       "    </tr>\n",
       "    <tr>\n",
       "      <th>4</th>\n",
       "      <td>Abeln</td>\n",
       "      <td>0</td>\n",
       "    </tr>\n",
       "  </tbody>\n",
       "</table>\n",
       "</div>"
      ],
      "text/plain": [
       "       Name  Class\n",
       "0     Abbas      0\n",
       "1      Abbe      0\n",
       "2  Abegglen      0\n",
       "3      Abel      0\n",
       "4     Abeln      0"
      ]
     },
     "execution_count": 402,
     "metadata": {},
     "output_type": "execute_result"
    }
   ],
   "source": [
    "surnames[surnames['Class'] == 0].head()"
   ]
  },
  {
   "cell_type": "code",
   "execution_count": 403,
   "metadata": {},
   "outputs": [
    {
     "data": {
      "text/html": [
       "<div>\n",
       "<style scoped>\n",
       "    .dataframe tbody tr th:only-of-type {\n",
       "        vertical-align: middle;\n",
       "    }\n",
       "\n",
       "    .dataframe tbody tr th {\n",
       "        vertical-align: top;\n",
       "    }\n",
       "\n",
       "    .dataframe thead th {\n",
       "        text-align: right;\n",
       "    }\n",
       "</style>\n",
       "<table border=\"1\" class=\"dataframe\">\n",
       "  <thead>\n",
       "    <tr style=\"text-align: right;\">\n",
       "      <th></th>\n",
       "      <th>Name</th>\n",
       "      <th>Class</th>\n",
       "    </tr>\n",
       "  </thead>\n",
       "  <tbody>\n",
       "    <tr>\n",
       "      <th>12275</th>\n",
       "      <td>Abbe</td>\n",
       "      <td>1</td>\n",
       "    </tr>\n",
       "    <tr>\n",
       "      <th>12276</th>\n",
       "      <td>Acord</td>\n",
       "      <td>1</td>\n",
       "    </tr>\n",
       "    <tr>\n",
       "      <th>12277</th>\n",
       "      <td>Acy</td>\n",
       "      <td>1</td>\n",
       "    </tr>\n",
       "    <tr>\n",
       "      <th>12278</th>\n",
       "      <td>Adrien</td>\n",
       "      <td>1</td>\n",
       "    </tr>\n",
       "    <tr>\n",
       "      <th>12279</th>\n",
       "      <td>Agard</td>\n",
       "      <td>1</td>\n",
       "    </tr>\n",
       "  </tbody>\n",
       "</table>\n",
       "</div>"
      ],
      "text/plain": [
       "         Name  Class\n",
       "12275    Abbe      1\n",
       "12276   Acord      1\n",
       "12277     Acy      1\n",
       "12278  Adrien      1\n",
       "12279   Agard      1"
      ]
     },
     "execution_count": 403,
     "metadata": {},
     "output_type": "execute_result"
    }
   ],
   "source": [
    "surnames[surnames['Class'] == 1].head()"
   ]
  },
  {
   "cell_type": "code",
   "execution_count": 404,
   "metadata": {},
   "outputs": [
    {
     "data": {
      "text/html": [
       "<div>\n",
       "<style scoped>\n",
       "    .dataframe tbody tr th:only-of-type {\n",
       "        vertical-align: middle;\n",
       "    }\n",
       "\n",
       "    .dataframe tbody tr th {\n",
       "        vertical-align: top;\n",
       "    }\n",
       "\n",
       "    .dataframe thead th {\n",
       "        text-align: right;\n",
       "    }\n",
       "</style>\n",
       "<table border=\"1\" class=\"dataframe\">\n",
       "  <thead>\n",
       "    <tr style=\"text-align: right;\">\n",
       "      <th></th>\n",
       "      <th>Name</th>\n",
       "      <th>Class</th>\n",
       "    </tr>\n",
       "  </thead>\n",
       "  <tbody>\n",
       "    <tr>\n",
       "      <th>15287</th>\n",
       "      <td>Abad</td>\n",
       "      <td>2</td>\n",
       "    </tr>\n",
       "    <tr>\n",
       "      <th>15288</th>\n",
       "      <td>Abalos</td>\n",
       "      <td>2</td>\n",
       "    </tr>\n",
       "    <tr>\n",
       "      <th>15289</th>\n",
       "      <td>Abar</td>\n",
       "      <td>2</td>\n",
       "    </tr>\n",
       "    <tr>\n",
       "      <th>15290</th>\n",
       "      <td>Abascal</td>\n",
       "      <td>2</td>\n",
       "    </tr>\n",
       "    <tr>\n",
       "      <th>15291</th>\n",
       "      <td>Abeita</td>\n",
       "      <td>2</td>\n",
       "    </tr>\n",
       "  </tbody>\n",
       "</table>\n",
       "</div>"
      ],
      "text/plain": [
       "          Name  Class\n",
       "15287     Abad      2\n",
       "15288   Abalos      2\n",
       "15289     Abar      2\n",
       "15290  Abascal      2\n",
       "15291   Abeita      2"
      ]
     },
     "execution_count": 404,
     "metadata": {},
     "output_type": "execute_result"
    }
   ],
   "source": [
    "surnames[surnames['Class'] == 2].head()"
   ]
  },
  {
   "cell_type": "code",
   "execution_count": 405,
   "metadata": {},
   "outputs": [
    {
     "data": {
      "text/plain": [
       "(17248, 2)"
      ]
     },
     "execution_count": 405,
     "metadata": {},
     "output_type": "execute_result"
    }
   ],
   "source": [
    "surnames.shape"
   ]
  },
  {
   "cell_type": "code",
   "execution_count": 406,
   "metadata": {},
   "outputs": [
    {
     "data": {
      "text/plain": [
       "0    12275\n",
       "1     3012\n",
       "2     1961\n",
       "Name: Class, dtype: int64"
      ]
     },
     "execution_count": 406,
     "metadata": {},
     "output_type": "execute_result"
    }
   ],
   "source": [
    "surnames.Class.value_counts()"
   ]
  },
  {
   "cell_type": "markdown",
   "metadata": {},
   "source": [
    "Right off the bat, the first thing we notice is that there are far more German surnames than French or Spanish ones. This is just due to the fact that the website lists many more German names. This could perhaps be problematic for the model as it could be biased to labeling a name German since so much of the traning data is German. I won't address this for now as I would rather have more data than cull some of the German data. We will see how this works out."
   ]
  },
  {
   "cell_type": "markdown",
   "metadata": {},
   "source": [
    "Something else you may have noticed in the dataframe heads shown above is that \"Abbe\" is in the German and French class. This goes back to my point before about how some surnames come from multi-regional given names. But for modeling purposes, we will want to avoid a name that is in more than one class. We will just clear any duplicates from the dataset."
   ]
  },
  {
   "cell_type": "code",
   "execution_count": 407,
   "metadata": {},
   "outputs": [],
   "source": [
    "surnames.drop_duplicates(subset=['Name'], keep=False, inplace = True)"
   ]
  },
  {
   "cell_type": "code",
   "execution_count": 408,
   "metadata": {},
   "outputs": [
    {
     "data": {
      "text/plain": [
       "0    12098\n",
       "1     2812\n",
       "2     1895\n",
       "Name: Class, dtype: int64"
      ]
     },
     "execution_count": 408,
     "metadata": {},
     "output_type": "execute_result"
    }
   ],
   "source": [
    "surnames.Class.value_counts()"
   ]
  },
  {
   "cell_type": "markdown",
   "metadata": {},
   "source": [
    "After dropping the duplicates, we can see that the German names make up about 72% of the dataset. Therefore, we're looking at a baseline accuracy for our model of 0.72."
   ]
  },
  {
   "cell_type": "code",
   "execution_count": 409,
   "metadata": {},
   "outputs": [
    {
     "data": {
      "text/plain": [
       "0.7199047902409997"
      ]
     },
     "execution_count": 409,
     "metadata": {},
     "output_type": "execute_result"
    }
   ],
   "source": [
    "12098/(2812 + 1895 + 12098)"
   ]
  },
  {
   "cell_type": "markdown",
   "metadata": {},
   "source": [
    "One last thing to note is that the data on the website did not contain any non-English characters. So, there are no umlauts or accent marks to consider. For example, the German name \"Müller\" appears as \"Muller\" in the dataset."
   ]
  },
  {
   "cell_type": "code",
   "execution_count": 410,
   "metadata": {},
   "outputs": [
    {
     "data": {
      "text/plain": [
       "(16805, 2)"
      ]
     },
     "execution_count": 410,
     "metadata": {},
     "output_type": "execute_result"
    }
   ],
   "source": [
    "surnames.shape"
   ]
  },
  {
   "cell_type": "markdown",
   "metadata": {},
   "source": [
    "***Creating the Model***"
   ]
  },
  {
   "cell_type": "code",
   "execution_count": 411,
   "metadata": {},
   "outputs": [],
   "source": [
    "X = surnames.Name #We create the feature and target\n",
    "y = surnames.Class\n",
    "\n",
    "# Split the new DataFrame into training and testing sets.\n",
    "X_train, X_test, y_train, y_test = train_test_split(X, y, random_state=1, test_size = .1)"
   ]
  },
  {
   "cell_type": "markdown",
   "metadata": {},
   "source": [
    "Usually, NLP models rely on word level tokens to create Count Vector or Term Frequency - Inverse Document Frequency matrices. As surnames are usually one word, this approach would not be helpful in our use case. This is where the custom analyzer comes into play. The function below is used to tokenize the surnames into tokens of size 2. So, we are basically creating \"words\" from the surnames by splitting them into tokens of size 2."
   ]
  },
  {
   "cell_type": "code",
   "execution_count": 412,
   "metadata": {},
   "outputs": [],
   "source": [
    "import re\n",
    "\n",
    "def ngrams(string, n=2):\n",
    "    string = re.sub(r'[,-./]|\\sBD',r'', string)#This step just does some string cleaning\n",
    "    ngrams = zip(*[string[i:] for i in range(n)])\n",
    "    return [''.join(ngram) for ngram in ngrams]"
   ]
  },
  {
   "cell_type": "markdown",
   "metadata": {},
   "source": [
    "Here is a quick example of how the function works."
   ]
  },
  {
   "cell_type": "code",
   "execution_count": 413,
   "metadata": {},
   "outputs": [
    {
     "data": {
      "text/plain": [
       "['mu', 'ul', 'll', 'le', 'er']"
      ]
     },
     "execution_count": 413,
     "metadata": {},
     "output_type": "execute_result"
    }
   ],
   "source": [
    "ngrams('muller')"
   ]
  },
  {
   "cell_type": "markdown",
   "metadata": {},
   "source": [
    "We use a Term Frequency - Inverse Document Frequency (Tfidf) vectorizer with the custom ngram function from above as the analyzer. The hope is that certain 2-ngrams are more common in surnames from one country than the others. The advantage of using the Tfidf matrix is that it will be able to give less weight to very common 2-ngrams across the whole dataset.\n",
    "\n",
    "After obtaining the document term matrices, we use a Random Forest Classifier to pick the features that are most important for classifying surnames. The model had better performance when n_estimators was set to 100 and max_features was set to log2 instead of the default."
   ]
  },
  {
   "cell_type": "code",
   "execution_count": 414,
   "metadata": {},
   "outputs": [
    {
     "data": {
      "text/plain": [
       "RandomForestClassifier(bootstrap=True, ccp_alpha=0.0, class_weight=None,\n",
       "                       criterion='gini', max_depth=None, max_features='log2',\n",
       "                       max_leaf_nodes=None, max_samples=None,\n",
       "                       min_impurity_decrease=0.0, min_impurity_split=None,\n",
       "                       min_samples_leaf=1, min_samples_split=2,\n",
       "                       min_weight_fraction_leaf=0.0, n_estimators=100,\n",
       "                       n_jobs=None, oob_score=False, random_state=None,\n",
       "                       verbose=0, warm_start=False)"
      ]
     },
     "execution_count": 414,
     "metadata": {},
     "output_type": "execute_result"
    }
   ],
   "source": [
    "vect = TfidfVectorizer(analyzer = ngrams)\n",
    "\n",
    "# Create document-term matrices.\n",
    "X_train_dtm = vect.fit_transform(X_train)\n",
    "X_test_dtm = vect.transform(X_test)\n",
    "\n",
    "# Use Random Forest classifier to predict the class of the name\n",
    "rf = RandomForestClassifier(n_estimators = 100, max_features = 'log2')\n",
    "rf.fit(X_train_dtm, y_train)\n"
   ]
  },
  {
   "cell_type": "markdown",
   "metadata": {},
   "source": [
    "We can now create a new dataframe with the test data and the predicted class output."
   ]
  },
  {
   "cell_type": "code",
   "execution_count": 415,
   "metadata": {},
   "outputs": [],
   "source": [
    "test_results = pd.DataFrame(columns = ['Name','class','class_pred'])"
   ]
  },
  {
   "cell_type": "code",
   "execution_count": 416,
   "metadata": {},
   "outputs": [],
   "source": [
    "test_results['Name'] = X_test"
   ]
  },
  {
   "cell_type": "code",
   "execution_count": 417,
   "metadata": {},
   "outputs": [],
   "source": [
    "test_results['class'] = y_test"
   ]
  },
  {
   "cell_type": "code",
   "execution_count": 418,
   "metadata": {},
   "outputs": [],
   "source": [
    "test_results['class_pred'] = rf.predict(X_test_dtm)"
   ]
  },
  {
   "cell_type": "code",
   "execution_count": 420,
   "metadata": {},
   "outputs": [],
   "source": [
    "test_results.to_csv('test_results_surnames.csv')"
   ]
  },
  {
   "cell_type": "markdown",
   "metadata": {},
   "source": [
    "The prediction accuracy is almost 89% for our test data. This is above the baseline accuracy of 72%."
   ]
  },
  {
   "cell_type": "code",
   "execution_count": 421,
   "metadata": {},
   "outputs": [
    {
     "data": {
      "text/plain": [
       "0.8863771564544913"
      ]
     },
     "execution_count": 421,
     "metadata": {},
     "output_type": "execute_result"
    }
   ],
   "source": [
    "metrics.accuracy_score(y_test, rf.predict(X_test_dtm))"
   ]
  },
  {
   "cell_type": "markdown",
   "metadata": {},
   "source": [
    "***Model Analysis***"
   ]
  },
  {
   "cell_type": "markdown",
   "metadata": {},
   "source": [
    "Let's look deeper into the predictions that the model produces. It is mostly predicting the test data correctly, but let's take a look at a selection of incorrect predictions."
   ]
  },
  {
   "cell_type": "markdown",
   "metadata": {},
   "source": [
    "Reminder, the classes are: \n",
    "\n",
    "    Class 0: German \n",
    "    Class 1: French\n",
    "    Class 2: Spanish"
   ]
  },
  {
   "cell_type": "code",
   "execution_count": 436,
   "metadata": {},
   "outputs": [
    {
     "data": {
      "text/html": [
       "<div>\n",
       "<style scoped>\n",
       "    .dataframe tbody tr th:only-of-type {\n",
       "        vertical-align: middle;\n",
       "    }\n",
       "\n",
       "    .dataframe tbody tr th {\n",
       "        vertical-align: top;\n",
       "    }\n",
       "\n",
       "    .dataframe thead th {\n",
       "        text-align: right;\n",
       "    }\n",
       "</style>\n",
       "<table border=\"1\" class=\"dataframe\">\n",
       "  <thead>\n",
       "    <tr style=\"text-align: right;\">\n",
       "      <th></th>\n",
       "      <th>Name</th>\n",
       "      <th>class</th>\n",
       "      <th>class_pred</th>\n",
       "    </tr>\n",
       "  </thead>\n",
       "  <tbody>\n",
       "    <tr>\n",
       "      <th>13371</th>\n",
       "      <td>Duhamel</td>\n",
       "      <td>1</td>\n",
       "      <td>0</td>\n",
       "    </tr>\n",
       "    <tr>\n",
       "      <th>15103</th>\n",
       "      <td>Theodore</td>\n",
       "      <td>1</td>\n",
       "      <td>0</td>\n",
       "    </tr>\n",
       "    <tr>\n",
       "      <th>16826</th>\n",
       "      <td>Renderos</td>\n",
       "      <td>2</td>\n",
       "      <td>0</td>\n",
       "    </tr>\n",
       "    <tr>\n",
       "      <th>15248</th>\n",
       "      <td>Vibert</td>\n",
       "      <td>1</td>\n",
       "      <td>0</td>\n",
       "    </tr>\n",
       "    <tr>\n",
       "      <th>12335</th>\n",
       "      <td>Armand</td>\n",
       "      <td>1</td>\n",
       "      <td>0</td>\n",
       "    </tr>\n",
       "    <tr>\n",
       "      <th>12540</th>\n",
       "      <td>Bergeron</td>\n",
       "      <td>1</td>\n",
       "      <td>0</td>\n",
       "    </tr>\n",
       "    <tr>\n",
       "      <th>13303</th>\n",
       "      <td>Dore</td>\n",
       "      <td>1</td>\n",
       "      <td>0</td>\n",
       "    </tr>\n",
       "    <tr>\n",
       "      <th>15126</th>\n",
       "      <td>Thill</td>\n",
       "      <td>1</td>\n",
       "      <td>0</td>\n",
       "    </tr>\n",
       "    <tr>\n",
       "      <th>14221</th>\n",
       "      <td>Madore</td>\n",
       "      <td>1</td>\n",
       "      <td>2</td>\n",
       "    </tr>\n",
       "    <tr>\n",
       "      <th>24</th>\n",
       "      <td>Adami</td>\n",
       "      <td>0</td>\n",
       "      <td>2</td>\n",
       "    </tr>\n",
       "    <tr>\n",
       "      <th>14366</th>\n",
       "      <td>Meas</td>\n",
       "      <td>1</td>\n",
       "      <td>2</td>\n",
       "    </tr>\n",
       "    <tr>\n",
       "      <th>16312</th>\n",
       "      <td>Leyba</td>\n",
       "      <td>2</td>\n",
       "      <td>0</td>\n",
       "    </tr>\n",
       "    <tr>\n",
       "      <th>12596</th>\n",
       "      <td>Binda</td>\n",
       "      <td>1</td>\n",
       "      <td>0</td>\n",
       "    </tr>\n",
       "    <tr>\n",
       "      <th>12769</th>\n",
       "      <td>Bressan</td>\n",
       "      <td>1</td>\n",
       "      <td>0</td>\n",
       "    </tr>\n",
       "    <tr>\n",
       "      <th>16166</th>\n",
       "      <td>Guerra</td>\n",
       "      <td>2</td>\n",
       "      <td>1</td>\n",
       "    </tr>\n",
       "    <tr>\n",
       "      <th>14091</th>\n",
       "      <td>Lemer</td>\n",
       "      <td>1</td>\n",
       "      <td>0</td>\n",
       "    </tr>\n",
       "    <tr>\n",
       "      <th>16656</th>\n",
       "      <td>Nieto</td>\n",
       "      <td>2</td>\n",
       "      <td>0</td>\n",
       "    </tr>\n",
       "    <tr>\n",
       "      <th>16392</th>\n",
       "      <td>Magana</td>\n",
       "      <td>2</td>\n",
       "      <td>1</td>\n",
       "    </tr>\n",
       "    <tr>\n",
       "      <th>13785</th>\n",
       "      <td>Jerome</td>\n",
       "      <td>1</td>\n",
       "      <td>0</td>\n",
       "    </tr>\n",
       "    <tr>\n",
       "      <th>1925</th>\n",
       "      <td>Dukart</td>\n",
       "      <td>0</td>\n",
       "      <td>1</td>\n",
       "    </tr>\n",
       "  </tbody>\n",
       "</table>\n",
       "</div>"
      ],
      "text/plain": [
       "           Name  class  class_pred\n",
       "13371   Duhamel      1           0\n",
       "15103  Theodore      1           0\n",
       "16826  Renderos      2           0\n",
       "15248    Vibert      1           0\n",
       "12335    Armand      1           0\n",
       "12540  Bergeron      1           0\n",
       "13303      Dore      1           0\n",
       "15126     Thill      1           0\n",
       "14221    Madore      1           2\n",
       "24        Adami      0           2\n",
       "14366      Meas      1           2\n",
       "16312     Leyba      2           0\n",
       "12596     Binda      1           0\n",
       "12769   Bressan      1           0\n",
       "16166    Guerra      2           1\n",
       "14091     Lemer      1           0\n",
       "16656     Nieto      2           0\n",
       "16392    Magana      2           1\n",
       "13785    Jerome      1           0\n",
       "1925     Dukart      0           1"
      ]
     },
     "execution_count": 436,
     "metadata": {},
     "output_type": "execute_result"
    }
   ],
   "source": [
    "test_results[test_results['class'] != test_results['class_pred']].head(20)"
   ]
  },
  {
   "cell_type": "markdown",
   "metadata": {},
   "source": [
    "As I foreshadowed before, the predictions look to be at least a little biased towards picking German (class 0). We can very clearly see this bias though when we look at the prediction probalities."
   ]
  },
  {
   "cell_type": "code",
   "execution_count": 441,
   "metadata": {},
   "outputs": [
    {
     "data": {
      "text/plain": [
       "array([[0.46, 0.44, 0.1 ]])"
      ]
     },
     "execution_count": 441,
     "metadata": {},
     "output_type": "execute_result"
    }
   ],
   "source": [
    "rf.predict_proba(vect.transform(['Vibert']))#French name\n",
    "#The first column in the output is German probability, the second French, and the third Spanish\n",
    "#French nearly won out over German here"
   ]
  },
  {
   "cell_type": "code",
   "execution_count": 439,
   "metadata": {},
   "outputs": [
    {
     "data": {
      "text/plain": [
       "array([[0.69, 0.19, 0.12]])"
      ]
     },
     "execution_count": 439,
     "metadata": {},
     "output_type": "execute_result"
    }
   ],
   "source": [
    "rf.predict_proba(vect.transform(['Leyba']))#Spanish name\n",
    "#The model was fairly confident it was German though"
   ]
  },
  {
   "cell_type": "markdown",
   "metadata": {},
   "source": [
    "There were certainly cases though where the prediction was Spanish or French and the name was not."
   ]
  },
  {
   "cell_type": "code",
   "execution_count": 444,
   "metadata": {},
   "outputs": [
    {
     "data": {
      "text/plain": [
       "array([[0.45, 0.05, 0.5 ]])"
      ]
     },
     "execution_count": 444,
     "metadata": {},
     "output_type": "execute_result"
    }
   ],
   "source": [
    "rf.predict_proba(vect.transform(['Adami']))#German name\n",
    "#Predicted as Spanish; though to my ear this doesn't \"sound\" very German. Maybe I can cut my model some slack haha"
   ]
  },
  {
   "cell_type": "markdown",
   "metadata": {},
   "source": [
    "Perhaps the best way of seeing the model's bias towards German is to just feed it short, non-sensical strings and see the probabilities."
   ]
  },
  {
   "cell_type": "code",
   "execution_count": 449,
   "metadata": {},
   "outputs": [
    {
     "data": {
      "text/plain": [
       "array([[0.67, 0.3 , 0.03]])"
      ]
     },
     "execution_count": 449,
     "metadata": {},
     "output_type": "execute_result"
    }
   ],
   "source": [
    "rf.predict_proba(vect.transform(['Pi']))"
   ]
  },
  {
   "cell_type": "code",
   "execution_count": 447,
   "metadata": {},
   "outputs": [
    {
     "data": {
      "text/plain": [
       "array([[0.97, 0.03, 0.  ]])"
      ]
     },
     "execution_count": 447,
     "metadata": {},
     "output_type": "execute_result"
    }
   ],
   "source": [
    "rf.predict_proba(vect.transform(['P']))"
   ]
  },
  {
   "cell_type": "code",
   "execution_count": 448,
   "metadata": {},
   "outputs": [
    {
     "data": {
      "text/plain": [
       "array([[0.97, 0.03, 0.  ]])"
      ]
     },
     "execution_count": 448,
     "metadata": {},
     "output_type": "execute_result"
    }
   ],
   "source": [
    "rf.predict_proba(vect.transform(['']))"
   ]
  },
  {
   "cell_type": "markdown",
   "metadata": {},
   "source": [
    "It's problematic to see the blank string returning with a 97% probabality of being German. (Though ironically fitting, as the Germans aren't historically known for chit-chat haha) I think this is an area where the model could use some tuning in the future."
   ]
  },
  {
   "cell_type": "markdown",
   "metadata": {},
   "source": [
    "***Applying the Model to Real Words in These Languages*** "
   ]
  },
  {
   "cell_type": "markdown",
   "metadata": {},
   "source": [
    "Perhaps this model could be extended beyond just predicting the nationality of names. It could also be useful for predicting the actual language of the words in a text. As I alluded to before, surnames are often based on actual words in a given language. Thus, the ngrams we created to parse surnames should be similar to the ngrams created if we parsed entire blocks of text in a given language. "
   ]
  },
  {
   "cell_type": "markdown",
   "metadata": {},
   "source": [
    "To test out this theory, I input the sentence \"How many times must I say\" in French, German, and Spanish into the model and output the predictions."
   ]
  },
  {
   "cell_type": "code",
   "execution_count": 458,
   "metadata": {},
   "outputs": [
    {
     "data": {
      "text/plain": [
       "array([1, 0, 2], dtype=int64)"
      ]
     },
     "execution_count": 458,
     "metadata": {},
     "output_type": "execute_result"
    }
   ],
   "source": [
    "rf.predict(vect.transform(['Combiendefoisdois-jedire','Wieoftmussichsagen','Cuantasvecesdebodecir']))"
   ]
  },
  {
   "cell_type": "markdown",
   "metadata": {},
   "source": [
    "It was right all three times. This made me think it could predict even longer texts."
   ]
  },
  {
   "cell_type": "code",
   "execution_count": 456,
   "metadata": {},
   "outputs": [],
   "source": [
    "spanish_text = 'Formado como futbolista desde categoría alevín en la cantera del Atlético de Madrid, debutó con el primer equipo rojiblanco en 2001 con 17 años, consiguiendo el ascenso la siguiente temporada a Primera División.'"
   ]
  },
  {
   "cell_type": "code",
   "execution_count": 467,
   "metadata": {},
   "outputs": [
    {
     "data": {
      "text/plain": [
       "array([[0.36, 0.14, 0.5 ]])"
      ]
     },
     "execution_count": 467,
     "metadata": {},
     "output_type": "execute_result"
    }
   ],
   "source": [
    "rf.predict_proba(vect.transform([spanish_text])) #predicted to be Spanish with a 50% probablity."
   ]
  },
  {
   "cell_type": "code",
   "execution_count": 459,
   "metadata": {},
   "outputs": [],
   "source": [
    "german_text = 'Torres spielte bereits sechs Jahre in den Jugendmannschaften von Atlético Madrid, bevor er Profispieler wurde. 1998 gewann er mit seinem Nachwuchsteam ein internationales Turnier, das von dem Sportartikelhersteller Nike veranstaltet wurde.'"
   ]
  },
  {
   "cell_type": "code",
   "execution_count": 466,
   "metadata": {},
   "outputs": [
    {
     "data": {
      "text/plain": [
       "array([[0.74, 0.04, 0.22]])"
      ]
     },
     "execution_count": 466,
     "metadata": {},
     "output_type": "execute_result"
    }
   ],
   "source": [
    "rf.predict_proba(vect.transform([german_text])) #predicted to be German with a 74% probablity."
   ]
  },
  {
   "cell_type": "code",
   "execution_count": 461,
   "metadata": {},
   "outputs": [],
   "source": [
    "french_text = \"Torres participe à la remontée de l'Atlético Madrid et inscrit 13 buts lors de sa première saison dans l'élite, à l'âge de 19 ans. Attaquant précoce, il est déjà capitaine de l'équipe. Doté d'un jeu de tête et d'un sens du but remarquable pour son âge\""
   ]
  },
  {
   "cell_type": "code",
   "execution_count": 463,
   "metadata": {},
   "outputs": [
    {
     "data": {
      "text/plain": [
       "array([[0.12, 0.5 , 0.38]])"
      ]
     },
     "execution_count": 463,
     "metadata": {},
     "output_type": "execute_result"
    }
   ],
   "source": [
    "rf.predict_proba(vect.transform([french_text])) #predicted to be French with a 50% probablity."
   ]
  },
  {
   "cell_type": "markdown",
   "metadata": {},
   "source": [
    "It is noteworthy that even with these longer texts, the German bias is still observed with the probabilites for the Spanish and French texts being lower than the German text."
   ]
  },
  {
   "cell_type": "markdown",
   "metadata": {},
   "source": [
    "As one final test, let's see how it predicts a non target language text."
   ]
  },
  {
   "cell_type": "code",
   "execution_count": 464,
   "metadata": {},
   "outputs": [],
   "source": [
    "italian_text = \"L'anno successivo la squadra viene promossa nella Liga. Nella sua prima stagione nel massimo campionato spagnolo Torres ha giocato 29 partite e realizzato 13 gol. Nella stagione 2003-2004 Torres, a 19 anni, è stato nominato capitano\""
   ]
  },
  {
   "cell_type": "code",
   "execution_count": 468,
   "metadata": {},
   "outputs": [
    {
     "data": {
      "text/plain": [
       "array([[0.22, 0.14, 0.64]])"
      ]
     },
     "execution_count": 468,
     "metadata": {},
     "output_type": "execute_result"
    }
   ],
   "source": [
    "rf.predict_proba(vect.transform([italian_text])) #predicted to be Spanish with a 64% probablity."
   ]
  },
  {
   "cell_type": "markdown",
   "metadata": {},
   "source": [
    "It's a little ironic that it predicts the Italian text to be Spanish with a higher probability than it predicted the Spanish text to be Spanish. Nonetheless, it still makes sense given that Italian is most similar to Spanish out of the three target languages."
   ]
  },
  {
   "cell_type": "markdown",
   "metadata": {},
   "source": [
    "***Conclusion***"
   ]
  },
  {
   "cell_type": "markdown",
   "metadata": {},
   "source": [
    "The model predicts the nationality of previously unseen surnames correctly about 89% of the time at present. Some tuning of the hyperparamters or the dataset could help increase this number. This model could really never be perfect as there are some surnames that defy good classification, such as the ones that can be multiple nationalities. It is interesting though that the model seems to predict the language of a given text pretty well despite the fact it was not trained on any data that contained actual words from the given language. In a future test, I may even want to test this idea further. It seems like it could perform well given that longer texts have more ngrams and thus more chances to display ngrams that are more common to one language than another."
   ]
  },
  {
   "cell_type": "markdown",
   "metadata": {},
   "source": [
    "To give some credence to the point about longer texts having more accurate predictions, here is a breakdown of the average string length of incorrect predictions versus correct predictions."
   ]
  },
  {
   "cell_type": "code",
   "execution_count": 520,
   "metadata": {},
   "outputs": [],
   "source": [
    "wrong_predictions = test_results[test_results['class'] != test_results['class_pred']]#Create wrong prediction dataframe"
   ]
  },
  {
   "cell_type": "code",
   "execution_count": 521,
   "metadata": {},
   "outputs": [],
   "source": [
    "right_predictions = test_results[test_results['class'] == test_results['class_pred']]#Create right prediction dataframe"
   ]
  },
  {
   "cell_type": "code",
   "execution_count": 522,
   "metadata": {},
   "outputs": [
    {
     "name": "stdout",
     "output_type": "stream",
     "text": [
      "Incorrect predictions have an average string length of 5.96\n"
     ]
    }
   ],
   "source": [
    "wrong_predictions.reset_index(inplace = True)\n",
    "i = 0\n",
    "wrong_predictions_string_len = []\n",
    "for i in range(wrong_predictions.shape[0]):\n",
    "    length_of_string = len(str(wrong_predictions.loc[i,'Name']))\n",
    "    wrong_predictions_string_len.append(length_of_string)\n",
    "    i = i + 1\n",
    "    \n",
    "print('Incorrect predictions have an average string length of',round(np.mean(wrong_predictions_string_len),2))"
   ]
  },
  {
   "cell_type": "code",
   "execution_count": 523,
   "metadata": {},
   "outputs": [
    {
     "name": "stdout",
     "output_type": "stream",
     "text": [
      "Correct predictions have an average string length of 6.74\n"
     ]
    }
   ],
   "source": [
    "right_predictions.reset_index(inplace = True)\n",
    "i = 0\n",
    "right_predictions_string_len = []\n",
    "for i in range(right_predictions.shape[0]):\n",
    "    length_of_string = len(str(right_predictions.loc[i,'Name']))\n",
    "    right_predictions_string_len.append(length_of_string)\n",
    "    i = i + 1\n",
    "    \n",
    "print('Correct predictions have an average string length of', round(np.mean(right_predictions_string_len),2))"
   ]
  },
  {
   "cell_type": "markdown",
   "metadata": {},
   "source": [
    "Correctly predicted surnames are almost a full letter longer on average than incorrectly predicted surnames. This is what is expected given that longer surnames have more ngrams and thus more chances to display features that are more common to one language."
   ]
  },
  {
   "cell_type": "markdown",
   "metadata": {},
   "source": [
    "***Appendix***"
   ]
  },
  {
   "cell_type": "code",
   "execution_count": 496,
   "metadata": {},
   "outputs": [
    {
     "data": {
      "text/plain": [
       "1159"
      ]
     },
     "execution_count": 496,
     "metadata": {},
     "output_type": "execute_result"
    }
   ],
   "source": [
    "right_predictions[(right_predictions['class'] == 0) == True].shape[0] #number of correct German predictions"
   ]
  },
  {
   "cell_type": "code",
   "execution_count": 497,
   "metadata": {},
   "outputs": [
    {
     "data": {
      "text/plain": [
       "28"
      ]
     },
     "execution_count": 497,
     "metadata": {},
     "output_type": "execute_result"
    }
   ],
   "source": [
    "wrong_predictions[(wrong_predictions['class'] == 0) == True].shape[0] #number of incorrect German predictions"
   ]
  },
  {
   "cell_type": "code",
   "execution_count": 498,
   "metadata": {},
   "outputs": [
    {
     "data": {
      "text/plain": [
       "191"
      ]
     },
     "execution_count": 498,
     "metadata": {},
     "output_type": "execute_result"
    }
   ],
   "source": [
    "right_predictions[(right_predictions['class'] == 1) == True].shape[0] #number of correct French predictions"
   ]
  },
  {
   "cell_type": "code",
   "execution_count": 499,
   "metadata": {},
   "outputs": [
    {
     "data": {
      "text/plain": [
       "104"
      ]
     },
     "execution_count": 499,
     "metadata": {},
     "output_type": "execute_result"
    }
   ],
   "source": [
    "wrong_predictions[(wrong_predictions['class'] == 1) == True].shape[0] #number of incorrect French predictions"
   ]
  },
  {
   "cell_type": "code",
   "execution_count": 501,
   "metadata": {},
   "outputs": [
    {
     "data": {
      "text/plain": [
       "140"
      ]
     },
     "execution_count": 501,
     "metadata": {},
     "output_type": "execute_result"
    }
   ],
   "source": [
    "right_predictions[(right_predictions['class'] == 2) == True].shape[0] #number of correct Spanish predictions"
   ]
  },
  {
   "cell_type": "code",
   "execution_count": 502,
   "metadata": {
    "scrolled": true
   },
   "outputs": [
    {
     "data": {
      "text/plain": [
       "59"
      ]
     },
     "execution_count": 502,
     "metadata": {},
     "output_type": "execute_result"
    }
   ],
   "source": [
    "wrong_predictions[(wrong_predictions['class'] == 2) == True].shape[0] #number of incorrect Spanish predictions"
   ]
  },
  {
   "cell_type": "code",
   "execution_count": 529,
   "metadata": {},
   "outputs": [
    {
     "data": {
      "image/png": "[encoded data removed]",
      "text/plain": [
       "<IPython.core.display.Image object>"
      ]
     },
     "execution_count": 529,
     "metadata": {
      "image/png": {
       "width": 250
      }
     },
     "output_type": "execute_result"
    }
   ],
   "source": [
    "url = 'https://user-images.githubusercontent.com/58672183/74598595-e72ffe80-5041-11ea-80bc-483869696cc4.png'\n",
    "IPython.display.Image(url, width = 250)"
   ]
  }
 ],
 "metadata": {
  "kernelspec": {
   "display_name": "Python 3",
   "language": "python",
   "name": "python3"
  },
  "language_info": {
   "codemirror_mode": {
    "name": "ipython",
    "version": 3
   },
   "file_extension": ".py",
   "mimetype": "text/x-python",
   "name": "python",
   "nbconvert_exporter": "python",
   "pygments_lexer": "ipython3",
   "version": "3.7.1"
  }
 },
 "nbformat": 4,
 "nbformat_minor": 2
}
